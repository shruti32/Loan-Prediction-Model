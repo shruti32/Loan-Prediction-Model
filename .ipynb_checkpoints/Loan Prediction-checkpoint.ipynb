{
 "cells": [
  {
   "cell_type": "markdown",
   "metadata": {},
   "source": [
    "Installing and loading required packages."
   ]
  },
  {
   "cell_type": "code",
   "execution_count": 2,
   "metadata": {},
   "outputs": [
    {
     "name": "stderr",
     "output_type": "stream",
     "text": [
      "Loading required package: dplyr\n",
      "\n",
      "Attaching package: 'dplyr'\n",
      "\n",
      "The following objects are masked from 'package:stats':\n",
      "\n",
      "    filter, lag\n",
      "\n",
      "The following objects are masked from 'package:base':\n",
      "\n",
      "    intersect, setdiff, setequal, union\n",
      "\n",
      "Loading required package: grid\n",
      "Loading required package: ggplot2\n",
      "Loading required package: lattice\n",
      "Loading required package: gridExtra\n",
      "\n",
      "Attaching package: 'gridExtra'\n",
      "\n",
      "The following object is masked from 'package:dplyr':\n",
      "\n",
      "    combine\n",
      "\n",
      "Loading required package: tidyselect\n",
      "\n",
      "Attaching package: 'tidyselect'\n",
      "\n",
      "The following objects are masked from 'package:dplyr':\n",
      "\n",
      "    contains, ends_with, everything, matches, num_range, one_of,\n",
      "    starts_with\n",
      "\n",
      "Loading required package: caTools\n",
      "Loading required package: nnet\n",
      "Loading required package: ROCR\n",
      "Loading required package: gplots\n",
      "\n",
      "Attaching package: 'gplots'\n",
      "\n",
      "The following object is masked from 'package:stats':\n",
      "\n",
      "    lowess\n",
      "\n",
      "Loading required package: ISLR\n",
      "Loading required package: MASS\n",
      "\n",
      "Attaching package: 'MASS'\n",
      "\n",
      "The following object is masked from 'package:dplyr':\n",
      "\n",
      "    select\n",
      "\n",
      "Loading required package: corrplot\n",
      "Loading required package: caret\n",
      "Warning message in library(package, lib.loc = lib.loc, character.only = TRUE, logical.return = TRUE, :\n",
      "\"there is no package called 'caret'\"also installing the dependencies 'ModelMetrics', 'nlme'\n",
      "\n"
     ]
    },
    {
     "name": "stdout",
     "output_type": "stream",
     "text": [
      "package 'ModelMetrics' successfully unpacked and MD5 sums checked\n",
      "package 'nlme' successfully unpacked and MD5 sums checked\n",
      "package 'caret' successfully unpacked and MD5 sums checked\n",
      "\n",
      "The downloaded binary packages are in\n",
      "\tC:\\Users\\shrut\\AppData\\Local\\Temp\\RtmpYdDuRd\\downloaded_packages\n"
     ]
    },
    {
     "name": "stderr",
     "output_type": "stream",
     "text": [
      "Loading required package: caret\n",
      "Error: package or namespace load failed for 'caret' in loadNamespace(i, c(lib.loc, .libPaths()), versionCheck = vI[[i]]):\n",
      " there is no package called 'lme4'\n"
     ]
    }
   ],
   "source": [
    "if(!require(dplyr)) {install.packages(\"dplyr\"); require(dplyr)}\n",
    "if(!require(grid)) {install.packages(\"grid\"); require(grid)}\n",
    "if(!require(ggplot2)) {install.packages(\"ggplot2\"); require(ggplot2)}\n",
    "if(!require(lattice)) {install.packages(\"lattice\"); require(lattice)}\n",
    "if(!require(gridExtra)) {install.packages(\"gridExtra\"); require(gridExtra)}\n",
    "if(!require(tidyselect)) {install.packages(\"tidyselect\"); require(tidyselect)}\n",
    "if(!require(caTools)) {install.packages(\"caTools\"); require(caTools)}\n",
    "if(!require(nnet)) {install.packages(\"nnet\"); require(nnet)}\n",
    "if(!require(ROCR)) {install.packages(\"ROCR\"); require(ROCR)}\n",
    "if(!require(ISLR)) {install.packages(\"ISLR\"); require(ISLR)}\n",
    "if(!require(MASS)) {install.packages(\"MASS\"); require(MASS)}\n",
    "if(!require(corrplot)) {install.packages(\"corrplot\"); require(corrplot)}\n",
    "if(!require(caret)) {install.packages(\"caret\"); require(caret)}"
   ]
  },
  {
   "cell_type": "markdown",
   "metadata": {},
   "source": [
    "Loading required data."
   ]
  },
  {
   "cell_type": "code",
   "execution_count": 3,
   "metadata": {},
   "outputs": [
    {
     "name": "stderr",
     "output_type": "stream",
     "text": [
      "Warning message:\n",
      "\"dependency 'GenomicRanges' is not available\""
     ]
    },
    {
     "name": "stdout",
     "output_type": "stream",
     "text": [
      "package 'data.table' successfully unpacked and MD5 sums checked\n",
      "\n",
      "The downloaded binary packages are in\n",
      "\tC:\\Users\\shrut\\AppData\\Local\\Temp\\RtmpYdDuRd\\downloaded_packages\n"
     ]
    }
   ],
   "source": [
    "install.packages(\"data.table\", dependencies=TRUE)\n",
    "loan_train <- data.table::fread(\"C:/Users/shrut/OneDrive/Documents/Loan Prediction/Train_data.csv\")\n",
    "loan_train <- as.data.frame(loan_train)"
   ]
  },
  {
   "cell_type": "code",
   "execution_count": 4,
   "metadata": {},
   "outputs": [
    {
     "data": {
      "text/html": [
       "<table>\n",
       "<thead><tr><th scope=col>Loan_ID</th><th scope=col>Gender</th><th scope=col>Married</th><th scope=col>Dependents</th><th scope=col>Education</th><th scope=col>Self_Employed</th><th scope=col>ApplicantIncome</th><th scope=col>CoapplicantIncome</th><th scope=col>LoanAmount</th><th scope=col>Loan_Amount_Term</th><th scope=col>Credit_History</th><th scope=col>Property_Area</th><th scope=col>Loan_Status</th></tr></thead>\n",
       "<tbody>\n",
       "\t<tr><td>LP001002    </td><td>Male        </td><td>No          </td><td>0           </td><td>Graduate    </td><td>No          </td><td>5849        </td><td>   0        </td><td> NA         </td><td>360         </td><td>1           </td><td>Urban       </td><td>Y           </td></tr>\n",
       "\t<tr><td>LP001003    </td><td>Male        </td><td>Yes         </td><td>1           </td><td>Graduate    </td><td>No          </td><td>4583        </td><td>1508        </td><td>128         </td><td>360         </td><td>1           </td><td>Rural       </td><td>N           </td></tr>\n",
       "\t<tr><td>LP001005    </td><td>Male        </td><td>Yes         </td><td>0           </td><td>Graduate    </td><td>Yes         </td><td>3000        </td><td>   0        </td><td> 66         </td><td>360         </td><td>1           </td><td>Urban       </td><td>Y           </td></tr>\n",
       "\t<tr><td>LP001006    </td><td>Male        </td><td>Yes         </td><td>0           </td><td>Not Graduate</td><td>No          </td><td>2583        </td><td>2358        </td><td>120         </td><td>360         </td><td>1           </td><td>Urban       </td><td>Y           </td></tr>\n",
       "\t<tr><td>LP001008    </td><td>Male        </td><td>No          </td><td>0           </td><td>Graduate    </td><td>No          </td><td>6000        </td><td>   0        </td><td>141         </td><td>360         </td><td>1           </td><td>Urban       </td><td>Y           </td></tr>\n",
       "\t<tr><td>LP001011    </td><td>Male        </td><td>Yes         </td><td>2           </td><td>Graduate    </td><td>Yes         </td><td>5417        </td><td>4196        </td><td>267         </td><td>360         </td><td>1           </td><td>Urban       </td><td>Y           </td></tr>\n",
       "</tbody>\n",
       "</table>\n"
      ],
      "text/latex": [
       "\\begin{tabular}{r|lllllllllllll}\n",
       " Loan\\_ID & Gender & Married & Dependents & Education & Self\\_Employed & ApplicantIncome & CoapplicantIncome & LoanAmount & Loan\\_Amount\\_Term & Credit\\_History & Property\\_Area & Loan\\_Status\\\\\n",
       "\\hline\n",
       "\t LP001002     & Male         & No           & 0            & Graduate     & No           & 5849         &    0         &  NA          & 360          & 1            & Urban        & Y           \\\\\n",
       "\t LP001003     & Male         & Yes          & 1            & Graduate     & No           & 4583         & 1508         & 128          & 360          & 1            & Rural        & N           \\\\\n",
       "\t LP001005     & Male         & Yes          & 0            & Graduate     & Yes          & 3000         &    0         &  66          & 360          & 1            & Urban        & Y           \\\\\n",
       "\t LP001006     & Male         & Yes          & 0            & Not Graduate & No           & 2583         & 2358         & 120          & 360          & 1            & Urban        & Y           \\\\\n",
       "\t LP001008     & Male         & No           & 0            & Graduate     & No           & 6000         &    0         & 141          & 360          & 1            & Urban        & Y           \\\\\n",
       "\t LP001011     & Male         & Yes          & 2            & Graduate     & Yes          & 5417         & 4196         & 267          & 360          & 1            & Urban        & Y           \\\\\n",
       "\\end{tabular}\n"
      ],
      "text/markdown": [
       "\n",
       "Loan_ID | Gender | Married | Dependents | Education | Self_Employed | ApplicantIncome | CoapplicantIncome | LoanAmount | Loan_Amount_Term | Credit_History | Property_Area | Loan_Status | \n",
       "|---|---|---|---|---|---|\n",
       "| LP001002     | Male         | No           | 0            | Graduate     | No           | 5849         |    0         |  NA          | 360          | 1            | Urban        | Y            | \n",
       "| LP001003     | Male         | Yes          | 1            | Graduate     | No           | 4583         | 1508         | 128          | 360          | 1            | Rural        | N            | \n",
       "| LP001005     | Male         | Yes          | 0            | Graduate     | Yes          | 3000         |    0         |  66          | 360          | 1            | Urban        | Y            | \n",
       "| LP001006     | Male         | Yes          | 0            | Not Graduate | No           | 2583         | 2358         | 120          | 360          | 1            | Urban        | Y            | \n",
       "| LP001008     | Male         | No           | 0            | Graduate     | No           | 6000         |    0         | 141          | 360          | 1            | Urban        | Y            | \n",
       "| LP001011     | Male         | Yes          | 2            | Graduate     | Yes          | 5417         | 4196         | 267          | 360          | 1            | Urban        | Y            | \n",
       "\n",
       "\n"
      ],
      "text/plain": [
       "  Loan_ID  Gender Married Dependents Education    Self_Employed ApplicantIncome\n",
       "1 LP001002 Male   No      0          Graduate     No            5849           \n",
       "2 LP001003 Male   Yes     1          Graduate     No            4583           \n",
       "3 LP001005 Male   Yes     0          Graduate     Yes           3000           \n",
       "4 LP001006 Male   Yes     0          Not Graduate No            2583           \n",
       "5 LP001008 Male   No      0          Graduate     No            6000           \n",
       "6 LP001011 Male   Yes     2          Graduate     Yes           5417           \n",
       "  CoapplicantIncome LoanAmount Loan_Amount_Term Credit_History Property_Area\n",
       "1    0               NA        360              1              Urban        \n",
       "2 1508              128        360              1              Rural        \n",
       "3    0               66        360              1              Urban        \n",
       "4 2358              120        360              1              Urban        \n",
       "5    0              141        360              1              Urban        \n",
       "6 4196              267        360              1              Urban        \n",
       "  Loan_Status\n",
       "1 Y          \n",
       "2 N          \n",
       "3 Y          \n",
       "4 Y          \n",
       "5 Y          \n",
       "6 Y          "
      ]
     },
     "metadata": {},
     "output_type": "display_data"
    }
   ],
   "source": [
    "head(loan_train)"
   ]
  },
  {
   "cell_type": "code",
   "execution_count": 5,
   "metadata": {},
   "outputs": [],
   "source": [
    "#Cleaning missing and duplicate data\n",
    "loan_train <- na.omit(loan_train)\n",
    "loan_train <- loan_train[!duplicated(loan_train),]\n",
    "loan_train$Loan_Status <- as.factor(loan_train$Loan_Status)"
   ]
  },
  {
   "cell_type": "code",
   "execution_count": 6,
   "metadata": {
    "scrolled": true
   },
   "outputs": [
    {
     "name": "stdout",
     "output_type": "stream",
     "text": [
      "'data.frame':\t529 obs. of  13 variables:\n",
      " $ Loan_ID          : chr  \"LP001003\" \"LP001005\" \"LP001006\" \"LP001008\" ...\n",
      " $ Gender           : chr  \"Male\" \"Male\" \"Male\" \"Male\" ...\n",
      " $ Married          : chr  \"Yes\" \"Yes\" \"Yes\" \"No\" ...\n",
      " $ Dependents       : chr  \"1\" \"0\" \"0\" \"0\" ...\n",
      " $ Education        : chr  \"Graduate\" \"Graduate\" \"Not Graduate\" \"Graduate\" ...\n",
      " $ Self_Employed    : chr  \"No\" \"Yes\" \"No\" \"No\" ...\n",
      " $ ApplicantIncome  : int  4583 3000 2583 6000 5417 2333 3036 4006 12841 3200 ...\n",
      " $ CoapplicantIncome: num  1508 0 2358 0 4196 ...\n",
      " $ LoanAmount       : int  128 66 120 141 267 95 158 168 349 70 ...\n",
      " $ Loan_Amount_Term : int  360 360 360 360 360 360 360 360 360 360 ...\n",
      " $ Credit_History   : int  1 1 1 1 1 1 0 1 1 1 ...\n",
      " $ Property_Area    : chr  \"Rural\" \"Urban\" \"Urban\" \"Urban\" ...\n",
      " $ Loan_Status      : Factor w/ 2 levels \"N\",\"Y\": 1 2 2 2 2 2 1 2 1 2 ...\n",
      " - attr(*, \"na.action\")=Class 'omit'  Named int [1:85] 1 17 20 25 31 36 37 43 45 46 ...\n",
      "  .. ..- attr(*, \"names\")= chr [1:85] \"1\" \"17\" \"20\" \"25\" ...\n"
     ]
    }
   ],
   "source": [
    "str(loan_train)"
   ]
  },
  {
   "cell_type": "markdown",
   "metadata": {},
   "source": [
    "Checking Multicollinearity among variables."
   ]
  },
  {
   "cell_type": "code",
   "execution_count": 7,
   "metadata": {},
   "outputs": [],
   "source": [
    "loan_train_numeric <- select_if(loan_train, is.numeric)\n",
    "cor_matrix <- cor(loan_train_numeric)"
   ]
  },
  {
   "cell_type": "code",
   "execution_count": 8,
   "metadata": {},
   "outputs": [
    {
     "data": {
      "text/html": [
       "<table>\n",
       "<thead><tr><th></th><th scope=col>ApplicantIncome</th><th scope=col>CoapplicantIncome</th><th scope=col>LoanAmount</th><th scope=col>Loan_Amount_Term</th><th scope=col>Credit_History</th></tr></thead>\n",
       "<tbody>\n",
       "\t<tr><th scope=row>ApplicantIncome</th><td> 1.00000000  </td><td>-0.1226305807</td><td> 0.57070849  </td><td>-0.0628610527</td><td>-0.02377860  </td></tr>\n",
       "\t<tr><th scope=row>CoapplicantIncome</th><td>-0.12263058  </td><td> 1.0000000000</td><td> 0.15915197  </td><td>-0.0002895206</td><td>-0.01084714  </td></tr>\n",
       "\t<tr><th scope=row>LoanAmount</th><td> 0.57070849  </td><td> 0.1591519703</td><td> 1.00000000  </td><td> 0.0232391675</td><td>-0.01815573  </td></tr>\n",
       "\t<tr><th scope=row>Loan_Amount_Term</th><td>-0.06286105  </td><td>-0.0002895206</td><td> 0.02323917  </td><td> 1.0000000000</td><td> 0.00865753  </td></tr>\n",
       "\t<tr><th scope=row>Credit_History</th><td>-0.02377860  </td><td>-0.0108471425</td><td>-0.01815573  </td><td> 0.0086575296</td><td> 1.00000000  </td></tr>\n",
       "</tbody>\n",
       "</table>\n"
      ],
      "text/latex": [
       "\\begin{tabular}{r|lllll}\n",
       "  & ApplicantIncome & CoapplicantIncome & LoanAmount & Loan\\_Amount\\_Term & Credit\\_History\\\\\n",
       "\\hline\n",
       "\tApplicantIncome &  1.00000000   & -0.1226305807 &  0.57070849   & -0.0628610527 & -0.02377860  \\\\\n",
       "\tCoapplicantIncome & -0.12263058   &  1.0000000000 &  0.15915197   & -0.0002895206 & -0.01084714  \\\\\n",
       "\tLoanAmount &  0.57070849   &  0.1591519703 &  1.00000000   &  0.0232391675 & -0.01815573  \\\\\n",
       "\tLoan\\_Amount\\_Term & -0.06286105   & -0.0002895206 &  0.02323917   &  1.0000000000 &  0.00865753  \\\\\n",
       "\tCredit\\_History & -0.02377860   & -0.0108471425 & -0.01815573   &  0.0086575296 &  1.00000000  \\\\\n",
       "\\end{tabular}\n"
      ],
      "text/markdown": [
       "\n",
       "| <!--/--> | ApplicantIncome | CoapplicantIncome | LoanAmount | Loan_Amount_Term | Credit_History | \n",
       "|---|---|---|---|---|\n",
       "| ApplicantIncome |  1.00000000   | -0.1226305807 |  0.57070849   | -0.0628610527 | -0.02377860   | \n",
       "| CoapplicantIncome | -0.12263058   |  1.0000000000 |  0.15915197   | -0.0002895206 | -0.01084714   | \n",
       "| LoanAmount |  0.57070849   |  0.1591519703 |  1.00000000   |  0.0232391675 | -0.01815573   | \n",
       "| Loan_Amount_Term | -0.06286105   | -0.0002895206 |  0.02323917   |  1.0000000000 |  0.00865753   | \n",
       "| Credit_History | -0.02377860   | -0.0108471425 | -0.01815573   |  0.0086575296 |  1.00000000   | \n",
       "\n",
       "\n"
      ],
      "text/plain": [
       "                  ApplicantIncome CoapplicantIncome LoanAmount \n",
       "ApplicantIncome    1.00000000     -0.1226305807      0.57070849\n",
       "CoapplicantIncome -0.12263058      1.0000000000      0.15915197\n",
       "LoanAmount         0.57070849      0.1591519703      1.00000000\n",
       "Loan_Amount_Term  -0.06286105     -0.0002895206      0.02323917\n",
       "Credit_History    -0.02377860     -0.0108471425     -0.01815573\n",
       "                  Loan_Amount_Term Credit_History\n",
       "ApplicantIncome   -0.0628610527    -0.02377860   \n",
       "CoapplicantIncome -0.0002895206    -0.01084714   \n",
       "LoanAmount         0.0232391675    -0.01815573   \n",
       "Loan_Amount_Term   1.0000000000     0.00865753   \n",
       "Credit_History     0.0086575296     1.00000000   "
      ]
     },
     "metadata": {},
     "output_type": "display_data"
    }
   ],
   "source": [
    "cor_matrix"
   ]
  },
  {
   "cell_type": "markdown",
   "metadata": {},
   "source": [
    "As none of the correlations is close to 1, we can say that the quantitative variables do not show collinearity."
   ]
  },
  {
   "cell_type": "markdown",
   "metadata": {},
   "source": [
    "Descriptive analysis of the data."
   ]
  },
  {
   "cell_type": "code",
   "execution_count": 12,
   "metadata": {},
   "outputs": [
    {
     "data": {
      "text/plain": [
       "   Loan_ID             Gender            Married           Dependents       \n",
       " Length:529         Length:529         Length:529         Length:529        \n",
       " Class :character   Class :character   Class :character   Class :character  \n",
       " Mode  :character   Mode  :character   Mode  :character   Mode  :character  \n",
       "                                                                            \n",
       "                                                                            \n",
       "                                                                            \n",
       "  Education         Self_Employed      ApplicantIncome CoapplicantIncome\n",
       " Length:529         Length:529         Min.   :  150   Min.   :    0    \n",
       " Class :character   Class :character   1st Qu.: 2900   1st Qu.:    0    \n",
       " Mode  :character   Mode  :character   Median : 3816   Median : 1086    \n",
       "                                       Mean   : 5508   Mean   : 1542    \n",
       "                                       3rd Qu.: 5815   3rd Qu.: 2232    \n",
       "                                       Max.   :81000   Max.   :33837    \n",
       "   LoanAmount    Loan_Amount_Term Credit_History   Property_Area     \n",
       " Min.   :  9.0   Min.   : 36.0    Min.   :0.0000   Length:529        \n",
       " 1st Qu.:100.0   1st Qu.:360.0    1st Qu.:1.0000   Class :character  \n",
       " Median :128.0   Median :360.0    Median :1.0000   Mode  :character  \n",
       " Mean   :145.9   Mean   :342.4    Mean   :0.8507                     \n",
       " 3rd Qu.:167.0   3rd Qu.:360.0    3rd Qu.:1.0000                     \n",
       " Max.   :700.0   Max.   :480.0    Max.   :1.0000                     \n",
       " Loan_Status\n",
       " N:163      \n",
       " Y:366      \n",
       "            \n",
       "            \n",
       "            \n",
       "            "
      ]
     },
     "metadata": {},
     "output_type": "display_data"
    },
    {
     "name": "stderr",
     "output_type": "stream",
     "text": [
      "Warning message in var(if (is.vector(x) || is.factor(x)) x else as.double(x), na.rm = na.rm):\n",
      "\"NAs introduced by coercion\"Warning message in var(if (is.vector(x) || is.factor(x)) x else as.double(x), na.rm = na.rm):\n",
      "\"NAs introduced by coercion\"Warning message in var(if (is.vector(x) || is.factor(x)) x else as.double(x), na.rm = na.rm):\n",
      "\"NAs introduced by coercion\"Warning message in var(if (is.vector(x) || is.factor(x)) x else as.double(x), na.rm = na.rm):\n",
      "\"NAs introduced by coercion\"Warning message in var(if (is.vector(x) || is.factor(x)) x else as.double(x), na.rm = na.rm):\n",
      "\"NAs introduced by coercion\"Warning message in var(if (is.vector(x) || is.factor(x)) x else as.double(x), na.rm = na.rm):\n",
      "\"NAs introduced by coercion\"Warning message in var(if (is.vector(x) || is.factor(x)) x else as.double(x), na.rm = na.rm):\n",
      "\"NAs introduced by coercion\"Warning message in var(if (is.vector(x) || is.factor(x)) x else as.double(x), na.rm = na.rm):\n",
      "\"Calling var(x) on a factor x is deprecated and will become an error.\n",
      "  Use something like 'all(duplicated(x)[-1L])' to test for a constant vector.\""
     ]
    },
    {
     "data": {
      "text/html": [
       "<dl class=dl-horizontal>\n",
       "\t<dt>Loan_ID</dt>\n",
       "\t\t<dd>&lt;NA&gt;</dd>\n",
       "\t<dt>Gender</dt>\n",
       "\t\t<dd>&lt;NA&gt;</dd>\n",
       "\t<dt>Married</dt>\n",
       "\t\t<dd>&lt;NA&gt;</dd>\n",
       "\t<dt>Dependents</dt>\n",
       "\t\t<dd>&lt;NA&gt;</dd>\n",
       "\t<dt>Education</dt>\n",
       "\t\t<dd>&lt;NA&gt;</dd>\n",
       "\t<dt>Self_Employed</dt>\n",
       "\t\t<dd>&lt;NA&gt;</dd>\n",
       "\t<dt>ApplicantIncome</dt>\n",
       "\t\t<dd>6404.13236933554</dd>\n",
       "\t<dt>CoapplicantIncome</dt>\n",
       "\t\t<dd>2524.29579690954</dd>\n",
       "\t<dt>LoanAmount</dt>\n",
       "\t\t<dd>84.1084087950073</dd>\n",
       "\t<dt>Loan_Amount_Term</dt>\n",
       "\t\t<dd>64.8616622468224</dd>\n",
       "\t<dt>Credit_History</dt>\n",
       "\t\t<dd>0.35675905530703</dd>\n",
       "\t<dt>Property_Area</dt>\n",
       "\t\t<dd>&lt;NA&gt;</dd>\n",
       "\t<dt>Loan_Status</dt>\n",
       "\t\t<dd>0.462157012991427</dd>\n",
       "</dl>\n"
      ],
      "text/latex": [
       "\\begin{description*}\n",
       "\\item[Loan\\textbackslash{}\\_ID] <NA>\n",
       "\\item[Gender] <NA>\n",
       "\\item[Married] <NA>\n",
       "\\item[Dependents] <NA>\n",
       "\\item[Education] <NA>\n",
       "\\item[Self\\textbackslash{}\\_Employed] <NA>\n",
       "\\item[ApplicantIncome] 6404.13236933554\n",
       "\\item[CoapplicantIncome] 2524.29579690954\n",
       "\\item[LoanAmount] 84.1084087950073\n",
       "\\item[Loan\\textbackslash{}\\_Amount\\textbackslash{}\\_Term] 64.8616622468224\n",
       "\\item[Credit\\textbackslash{}\\_History] 0.35675905530703\n",
       "\\item[Property\\textbackslash{}\\_Area] <NA>\n",
       "\\item[Loan\\textbackslash{}\\_Status] 0.462157012991427\n",
       "\\end{description*}\n"
      ],
      "text/markdown": [
       "Loan_ID\n",
       ":   &lt;NA&gt;Gender\n",
       ":   &lt;NA&gt;Married\n",
       ":   &lt;NA&gt;Dependents\n",
       ":   &lt;NA&gt;Education\n",
       ":   &lt;NA&gt;Self_Employed\n",
       ":   &lt;NA&gt;ApplicantIncome\n",
       ":   6404.13236933554CoapplicantIncome\n",
       ":   2524.29579690954LoanAmount\n",
       ":   84.1084087950073Loan_Amount_Term\n",
       ":   64.8616622468224Credit_History\n",
       ":   0.35675905530703Property_Area\n",
       ":   &lt;NA&gt;Loan_Status\n",
       ":   0.462157012991427\n",
       "\n"
      ],
      "text/plain": [
       "          Loan_ID            Gender           Married        Dependents \n",
       "               NA                NA                NA                NA \n",
       "        Education     Self_Employed   ApplicantIncome CoapplicantIncome \n",
       "               NA                NA      6404.1323693      2524.2957969 \n",
       "       LoanAmount  Loan_Amount_Term    Credit_History     Property_Area \n",
       "       84.1084088        64.8616622         0.3567591                NA \n",
       "      Loan_Status \n",
       "        0.4621570 "
      ]
     },
     "metadata": {},
     "output_type": "display_data"
    }
   ],
   "source": [
    "summary(loan_train)\n",
    "sapply(loan_train, sd)"
   ]
  },
  {
   "cell_type": "code",
   "execution_count": 21,
   "metadata": {},
   "outputs": [
    {
     "name": "stderr",
     "output_type": "stream",
     "text": [
      "`stat_bin()` using `bins = 30`. Pick better value with `binwidth`.\n",
      "`stat_bin()` using `bins = 30`. Pick better value with `binwidth`.\n",
      "`stat_bin()` using `bins = 30`. Pick better value with `binwidth`.\n",
      "`stat_bin()` using `bins = 30`. Pick better value with `binwidth`.\n",
      "`stat_bin()` using `bins = 30`. Pick better value with `binwidth`.\n",
      "`stat_bin()` using `bins = 30`. Pick better value with `binwidth`.\n",
      "`stat_bin()` using `bins = 30`. Pick better value with `binwidth`.\n",
      "`stat_bin()` using `bins = 30`. Pick better value with `binwidth`.\n",
      "`stat_bin()` using `bins = 30`. Pick better value with `binwidth`.\n",
      "`stat_bin()` using `bins = 30`. Pick better value with `binwidth`.\n",
      "`stat_bin()` using `bins = 30`. Pick better value with `binwidth`.\n",
      "`stat_bin()` using `bins = 30`. Pick better value with `binwidth`.\n",
      "`stat_bin()` using `bins = 30`. Pick better value with `binwidth`.\n",
      "`stat_bin()` using `bins = 30`. Pick better value with `binwidth`.\n",
      "`stat_bin()` using `bins = 30`. Pick better value with `binwidth`.\n",
      "`stat_bin()` using `bins = 30`. Pick better value with `binwidth`.\n",
      "`stat_bin()` using `bins = 30`. Pick better value with `binwidth`.\n",
      "`stat_bin()` using `bins = 30`. Pick better value with `binwidth`.\n",
      "`stat_bin()` using `bins = 30`. Pick better value with `binwidth`.\n",
      "`stat_bin()` using `bins = 30`. Pick better value with `binwidth`.\n",
      "`stat_bin()` using `bins = 30`. Pick better value with `binwidth`.\n",
      "`stat_bin()` using `bins = 30`. Pick better value with `binwidth`.\n",
      "`stat_bin()` using `bins = 30`. Pick better value with `binwidth`.\n",
      "`stat_bin()` using `bins = 30`. Pick better value with `binwidth`.\n",
      "`stat_bin()` using `bins = 30`. Pick better value with `binwidth`.\n",
      "`stat_bin()` using `bins = 30`. Pick better value with `binwidth`.\n",
      "`stat_bin()` using `bins = 30`. Pick better value with `binwidth`.\n",
      "`stat_bin()` using `bins = 30`. Pick better value with `binwidth`.\n",
      "`stat_bin()` using `bins = 30`. Pick better value with `binwidth`.\n",
      "`stat_bin()` using `bins = 30`. Pick better value with `binwidth`.\n",
      "`stat_bin()` using `bins = 30`. Pick better value with `binwidth`.\n",
      "`stat_bin()` using `bins = 30`. Pick better value with `binwidth`.\n",
      "`stat_bin()` using `bins = 30`. Pick better value with `binwidth`.\n",
      "`stat_bin()` using `bins = 30`. Pick better value with `binwidth`.\n",
      "`stat_bin()` using `bins = 30`. Pick better value with `binwidth`.\n"
     ]
    },
    {
     "data": {},
     "metadata": {},
     "output_type": "display_data"
    },
    {
     "data": {
      "image/png": "[encoded data removed]",
      "text/plain": [
       "plot without title"
      ]
     },
     "metadata": {},
     "output_type": "display_data"
    }
   ],
   "source": [
    "if(!require(GGally)) {install.packages(\"GGally\"); require(GGally)}\n",
    "pm <- ggpairs(loan_train, columns = 2:13)\n",
    "pm"
   ]
  },
  {
   "cell_type": "markdown",
   "metadata": {},
   "source": [
    "As we can see from the above paired plots, there are some variables which does not have high impact on the loan status, and these are ApplicantIncome, Loan_Amount_Term and Property_Area. Now we will fit a logistic regression model with all the variables and analyse the coefficients and verify that whether our descriptive analysis is in line with our model. We will split the data into training and test sets, with training set containing 75% of the observations and the test set containing 25% of the observations."
   ]
  },
  {
   "cell_type": "code",
   "execution_count": null,
   "metadata": {},
   "outputs": [],
   "source": [
    "index = createDataPartition(loan_train$Loan_Status, p = 0.75, list = F )\n",
    "train_data = loan_train[index,]\n",
    "validation_data = loan_train[-index,]"
   ]
  }
 ],
 "metadata": {
  "kernelspec": {
   "display_name": "R",
   "language": "R",
   "name": "ir"
  },
  "language_info": {
   "codemirror_mode": "r",
   "file_extension": ".r",
   "mimetype": "text/x-r-source",
   "name": "R",
   "pygments_lexer": "r",
   "version": "3.3.3"
  }
 },
 "nbformat": 4,
 "nbformat_minor": 2
}
