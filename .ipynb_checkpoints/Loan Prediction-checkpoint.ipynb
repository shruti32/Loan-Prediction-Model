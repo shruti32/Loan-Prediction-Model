{
 "cells": [
  {
   "cell_type": "markdown",
   "metadata": {},
   "source": [
    "Installing and loading required packages."
   ]
  },
  {
   "cell_type": "code",
   "execution_count": 1,
   "metadata": {},
   "outputs": [
    {
     "name": "stderr",
     "output_type": "stream",
     "text": [
      "Loading required package: dplyr\n",
      "\n",
      "Attaching package: 'dplyr'\n",
      "\n",
      "The following objects are masked from 'package:stats':\n",
      "\n",
      "    filter, lag\n",
      "\n",
      "The following objects are masked from 'package:base':\n",
      "\n",
      "    intersect, setdiff, setequal, union\n",
      "\n",
      "Loading required package: grid\n",
      "Loading required package: ggplot2\n",
      "Loading required package: lattice\n",
      "Loading required package: gridExtra\n",
      "\n",
      "Attaching package: 'gridExtra'\n",
      "\n",
      "The following object is masked from 'package:dplyr':\n",
      "\n",
      "    combine\n",
      "\n",
      "Loading required package: tidyselect\n",
      "\n",
      "Attaching package: 'tidyselect'\n",
      "\n",
      "The following objects are masked from 'package:dplyr':\n",
      "\n",
      "    contains, ends_with, everything, matches, num_range, one_of,\n",
      "    starts_with\n",
      "\n",
      "Loading required package: caTools\n",
      "Loading required package: nnet\n",
      "Loading required package: ROCR\n",
      "Loading required package: gplots\n",
      "\n",
      "Attaching package: 'gplots'\n",
      "\n",
      "The following object is masked from 'package:stats':\n",
      "\n",
      "    lowess\n",
      "\n",
      "Loading required package: ISLR\n",
      "Loading required package: MASS\n",
      "\n",
      "Attaching package: 'MASS'\n",
      "\n",
      "The following object is masked from 'package:dplyr':\n",
      "\n",
      "    select\n",
      "\n",
      "Loading required package: corrplot\n",
      "Loading required package: caret\n",
      "Error: package or namespace load failed for 'caret' in loadNamespace(i, c(lib.loc, .libPaths()), versionCheck = vI[[i]]):\n",
      " there is no package called 'lme4'\n"
     ]
    },
    {
     "name": "stdout",
     "output_type": "stream",
     "text": [
      "package 'caret' successfully unpacked and MD5 sums checked\n",
      "\n",
      "The downloaded binary packages are in\n",
      "\tC:\\Users\\shrut\\AppData\\Local\\Temp\\RtmpoJuS22\\downloaded_packages\n"
     ]
    },
    {
     "name": "stderr",
     "output_type": "stream",
     "text": [
      "Loading required package: caret\n",
      "Error: package or namespace load failed for 'caret' in loadNamespace(i, c(lib.loc, .libPaths()), versionCheck = vI[[i]]):\n",
      " there is no package called 'lme4'\n"
     ]
    }
   ],
   "source": [
    "if(!require(dplyr)) {install.packages(\"dplyr\"); require(dplyr)}\n",
    "if(!require(grid)) {install.packages(\"grid\"); require(grid)}\n",
    "if(!require(ggplot2)) {install.packages(\"ggplot2\"); require(ggplot2)}\n",
    "if(!require(lattice)) {install.packages(\"lattice\"); require(lattice)}\n",
    "if(!require(gridExtra)) {install.packages(\"gridExtra\"); require(gridExtra)}\n",
    "if(!require(tidyselect)) {install.packages(\"tidyselect\"); require(tidyselect)}\n",
    "if(!require(caTools)) {install.packages(\"caTools\"); require(caTools)}\n",
    "if(!require(nnet)) {install.packages(\"nnet\"); require(nnet)}\n",
    "if(!require(ROCR)) {install.packages(\"ROCR\"); require(ROCR)}\n",
    "if(!require(ISLR)) {install.packages(\"ISLR\"); require(ISLR)}\n",
    "if(!require(MASS)) {install.packages(\"MASS\"); require(MASS)}\n",
    "if(!require(corrplot)) {install.packages(\"corrplot\"); require(corrplot)}\n",
    "if(!require(caret)) {install.packages(\"caret\"); require(caret)}\n",
    "if(!require(class)) {install.packages(\"class\"); require(class)}"
   ]
  },
  {
   "cell_type": "markdown",
   "metadata": {},
   "source": [
    "Loading required data."
   ]
  },
  {
   "cell_type": "code",
   "execution_count": 2,
   "metadata": {},
   "outputs": [
    {
     "name": "stderr",
     "output_type": "stream",
     "text": [
      "Loading required package: data.table\n",
      "\n",
      "Attaching package: 'data.table'\n",
      "\n",
      "The following objects are masked from 'package:dplyr':\n",
      "\n",
      "    between, first, last\n",
      "\n"
     ]
    }
   ],
   "source": [
    "if(!require(data.table)) {install.packages(\"data.table\"); require(data.table)}\n",
    "loan_train <- fread(\"Train_data.csv\")\n",
    "loan_train = loan_train[,-1]"
   ]
  },
  {
   "cell_type": "code",
   "execution_count": 3,
   "metadata": {},
   "outputs": [
    {
     "data": {
      "text/html": [
       "<table>\n",
       "<thead><tr><th scope=col>Gender</th><th scope=col>Married</th><th scope=col>Dependents</th><th scope=col>Education</th><th scope=col>Self_Employed</th><th scope=col>ApplicantIncome</th><th scope=col>CoapplicantIncome</th><th scope=col>LoanAmount</th><th scope=col>Loan_Amount_Term</th><th scope=col>Credit_History</th><th scope=col>Property_Area</th><th scope=col>Loan_Status</th></tr></thead>\n",
       "<tbody>\n",
       "\t<tr><td>Male        </td><td>No          </td><td>0           </td><td>Graduate    </td><td>No          </td><td>5849        </td><td>   0        </td><td> NA         </td><td>360         </td><td>1           </td><td>Urban       </td><td>Y           </td></tr>\n",
       "\t<tr><td>Male        </td><td>Yes         </td><td>1           </td><td>Graduate    </td><td>No          </td><td>4583        </td><td>1508        </td><td>128         </td><td>360         </td><td>1           </td><td>Rural       </td><td>N           </td></tr>\n",
       "\t<tr><td>Male        </td><td>Yes         </td><td>0           </td><td>Graduate    </td><td>Yes         </td><td>3000        </td><td>   0        </td><td> 66         </td><td>360         </td><td>1           </td><td>Urban       </td><td>Y           </td></tr>\n",
       "\t<tr><td>Male        </td><td>Yes         </td><td>0           </td><td>Not Graduate</td><td>No          </td><td>2583        </td><td>2358        </td><td>120         </td><td>360         </td><td>1           </td><td>Urban       </td><td>Y           </td></tr>\n",
       "\t<tr><td>Male        </td><td>No          </td><td>0           </td><td>Graduate    </td><td>No          </td><td>6000        </td><td>   0        </td><td>141         </td><td>360         </td><td>1           </td><td>Urban       </td><td>Y           </td></tr>\n",
       "\t<tr><td>Male        </td><td>Yes         </td><td>2           </td><td>Graduate    </td><td>Yes         </td><td>5417        </td><td>4196        </td><td>267         </td><td>360         </td><td>1           </td><td>Urban       </td><td>Y           </td></tr>\n",
       "</tbody>\n",
       "</table>\n"
      ],
      "text/latex": [
       "\\begin{tabular}{r|llllllllllll}\n",
       " Gender & Married & Dependents & Education & Self\\_Employed & ApplicantIncome & CoapplicantIncome & LoanAmount & Loan\\_Amount\\_Term & Credit\\_History & Property\\_Area & Loan\\_Status\\\\\n",
       "\\hline\n",
       "\t Male         & No           & 0            & Graduate     & No           & 5849         &    0         &  NA          & 360          & 1            & Urban        & Y           \\\\\n",
       "\t Male         & Yes          & 1            & Graduate     & No           & 4583         & 1508         & 128          & 360          & 1            & Rural        & N           \\\\\n",
       "\t Male         & Yes          & 0            & Graduate     & Yes          & 3000         &    0         &  66          & 360          & 1            & Urban        & Y           \\\\\n",
       "\t Male         & Yes          & 0            & Not Graduate & No           & 2583         & 2358         & 120          & 360          & 1            & Urban        & Y           \\\\\n",
       "\t Male         & No           & 0            & Graduate     & No           & 6000         &    0         & 141          & 360          & 1            & Urban        & Y           \\\\\n",
       "\t Male         & Yes          & 2            & Graduate     & Yes          & 5417         & 4196         & 267          & 360          & 1            & Urban        & Y           \\\\\n",
       "\\end{tabular}\n"
      ],
      "text/markdown": [
       "\n",
       "Gender | Married | Dependents | Education | Self_Employed | ApplicantIncome | CoapplicantIncome | LoanAmount | Loan_Amount_Term | Credit_History | Property_Area | Loan_Status | \n",
       "|---|---|---|---|---|---|\n",
       "| Male         | No           | 0            | Graduate     | No           | 5849         |    0         |  NA          | 360          | 1            | Urban        | Y            | \n",
       "| Male         | Yes          | 1            | Graduate     | No           | 4583         | 1508         | 128          | 360          | 1            | Rural        | N            | \n",
       "| Male         | Yes          | 0            | Graduate     | Yes          | 3000         |    0         |  66          | 360          | 1            | Urban        | Y            | \n",
       "| Male         | Yes          | 0            | Not Graduate | No           | 2583         | 2358         | 120          | 360          | 1            | Urban        | Y            | \n",
       "| Male         | No           | 0            | Graduate     | No           | 6000         |    0         | 141          | 360          | 1            | Urban        | Y            | \n",
       "| Male         | Yes          | 2            | Graduate     | Yes          | 5417         | 4196         | 267          | 360          | 1            | Urban        | Y            | \n",
       "\n",
       "\n"
      ],
      "text/plain": [
       "  Gender Married Dependents Education    Self_Employed ApplicantIncome\n",
       "1 Male   No      0          Graduate     No            5849           \n",
       "2 Male   Yes     1          Graduate     No            4583           \n",
       "3 Male   Yes     0          Graduate     Yes           3000           \n",
       "4 Male   Yes     0          Not Graduate No            2583           \n",
       "5 Male   No      0          Graduate     No            6000           \n",
       "6 Male   Yes     2          Graduate     Yes           5417           \n",
       "  CoapplicantIncome LoanAmount Loan_Amount_Term Credit_History Property_Area\n",
       "1    0               NA        360              1              Urban        \n",
       "2 1508              128        360              1              Rural        \n",
       "3    0               66        360              1              Urban        \n",
       "4 2358              120        360              1              Urban        \n",
       "5    0              141        360              1              Urban        \n",
       "6 4196              267        360              1              Urban        \n",
       "  Loan_Status\n",
       "1 Y          \n",
       "2 N          \n",
       "3 Y          \n",
       "4 Y          \n",
       "5 Y          \n",
       "6 Y          "
      ]
     },
     "metadata": {},
     "output_type": "display_data"
    }
   ],
   "source": [
    "head(loan_train)"
   ]
  },
  {
   "cell_type": "code",
   "execution_count": 4,
   "metadata": {},
   "outputs": [],
   "source": [
    "#Cleaning missing and duplicate data\n",
    "loan_train <- na.omit(loan_train)\n",
    "loan_train <- loan_train[!duplicated(loan_train),]\n",
    "loan_train$Loan_Status <- as.factor(loan_train$Loan_Status)"
   ]
  },
  {
   "cell_type": "code",
   "execution_count": 5,
   "metadata": {
    "scrolled": true
   },
   "outputs": [
    {
     "name": "stdout",
     "output_type": "stream",
     "text": [
      "Classes 'data.table' and 'data.frame':\t529 obs. of  12 variables:\n",
      " $ Gender           : chr  \"Male\" \"Male\" \"Male\" \"Male\" ...\n",
      " $ Married          : chr  \"Yes\" \"Yes\" \"Yes\" \"No\" ...\n",
      " $ Dependents       : chr  \"1\" \"0\" \"0\" \"0\" ...\n",
      " $ Education        : chr  \"Graduate\" \"Graduate\" \"Not Graduate\" \"Graduate\" ...\n",
      " $ Self_Employed    : chr  \"No\" \"Yes\" \"No\" \"No\" ...\n",
      " $ ApplicantIncome  : int  4583 3000 2583 6000 5417 2333 3036 4006 12841 3200 ...\n",
      " $ CoapplicantIncome: num  1508 0 2358 0 4196 ...\n",
      " $ LoanAmount       : int  128 66 120 141 267 95 158 168 349 70 ...\n",
      " $ Loan_Amount_Term : int  360 360 360 360 360 360 360 360 360 360 ...\n",
      " $ Credit_History   : int  1 1 1 1 1 1 0 1 1 1 ...\n",
      " $ Property_Area    : chr  \"Rural\" \"Urban\" \"Urban\" \"Urban\" ...\n",
      " $ Loan_Status      : Factor w/ 2 levels \"N\",\"Y\": 1 2 2 2 2 2 1 2 1 2 ...\n",
      " - attr(*, \".internal.selfref\")=<externalptr> \n"
     ]
    }
   ],
   "source": [
    "str(loan_train)"
   ]
  },
  {
   "cell_type": "markdown",
   "metadata": {},
   "source": [
    "Checking Multicollinearity among variables."
   ]
  },
  {
   "cell_type": "code",
   "execution_count": 6,
   "metadata": {},
   "outputs": [],
   "source": [
    "loan_train_numeric <- select_if(loan_train, is.numeric)\n",
    "cor_matrix <- cor(loan_train_numeric)"
   ]
  },
  {
   "cell_type": "code",
   "execution_count": 7,
   "metadata": {},
   "outputs": [
    {
     "data": {
      "text/html": [
       "<table>\n",
       "<thead><tr><th></th><th scope=col>ApplicantIncome</th><th scope=col>CoapplicantIncome</th><th scope=col>LoanAmount</th><th scope=col>Loan_Amount_Term</th><th scope=col>Credit_History</th></tr></thead>\n",
       "<tbody>\n",
       "\t<tr><th scope=row>ApplicantIncome</th><td> 1.00000000  </td><td>-0.1226305807</td><td> 0.57070849  </td><td>-0.0628610527</td><td>-0.02377860  </td></tr>\n",
       "\t<tr><th scope=row>CoapplicantIncome</th><td>-0.12263058  </td><td> 1.0000000000</td><td> 0.15915197  </td><td>-0.0002895206</td><td>-0.01084714  </td></tr>\n",
       "\t<tr><th scope=row>LoanAmount</th><td> 0.57070849  </td><td> 0.1591519703</td><td> 1.00000000  </td><td> 0.0232391675</td><td>-0.01815573  </td></tr>\n",
       "\t<tr><th scope=row>Loan_Amount_Term</th><td>-0.06286105  </td><td>-0.0002895206</td><td> 0.02323917  </td><td> 1.0000000000</td><td> 0.00865753  </td></tr>\n",
       "\t<tr><th scope=row>Credit_History</th><td>-0.02377860  </td><td>-0.0108471425</td><td>-0.01815573  </td><td> 0.0086575296</td><td> 1.00000000  </td></tr>\n",
       "</tbody>\n",
       "</table>\n"
      ],
      "text/latex": [
       "\\begin{tabular}{r|lllll}\n",
       "  & ApplicantIncome & CoapplicantIncome & LoanAmount & Loan\\_Amount\\_Term & Credit\\_History\\\\\n",
       "\\hline\n",
       "\tApplicantIncome &  1.00000000   & -0.1226305807 &  0.57070849   & -0.0628610527 & -0.02377860  \\\\\n",
       "\tCoapplicantIncome & -0.12263058   &  1.0000000000 &  0.15915197   & -0.0002895206 & -0.01084714  \\\\\n",
       "\tLoanAmount &  0.57070849   &  0.1591519703 &  1.00000000   &  0.0232391675 & -0.01815573  \\\\\n",
       "\tLoan\\_Amount\\_Term & -0.06286105   & -0.0002895206 &  0.02323917   &  1.0000000000 &  0.00865753  \\\\\n",
       "\tCredit\\_History & -0.02377860   & -0.0108471425 & -0.01815573   &  0.0086575296 &  1.00000000  \\\\\n",
       "\\end{tabular}\n"
      ],
      "text/markdown": [
       "\n",
       "| <!--/--> | ApplicantIncome | CoapplicantIncome | LoanAmount | Loan_Amount_Term | Credit_History | \n",
       "|---|---|---|---|---|\n",
       "| ApplicantIncome |  1.00000000   | -0.1226305807 |  0.57070849   | -0.0628610527 | -0.02377860   | \n",
       "| CoapplicantIncome | -0.12263058   |  1.0000000000 |  0.15915197   | -0.0002895206 | -0.01084714   | \n",
       "| LoanAmount |  0.57070849   |  0.1591519703 |  1.00000000   |  0.0232391675 | -0.01815573   | \n",
       "| Loan_Amount_Term | -0.06286105   | -0.0002895206 |  0.02323917   |  1.0000000000 |  0.00865753   | \n",
       "| Credit_History | -0.02377860   | -0.0108471425 | -0.01815573   |  0.0086575296 |  1.00000000   | \n",
       "\n",
       "\n"
      ],
      "text/plain": [
       "                  ApplicantIncome CoapplicantIncome LoanAmount \n",
       "ApplicantIncome    1.00000000     -0.1226305807      0.57070849\n",
       "CoapplicantIncome -0.12263058      1.0000000000      0.15915197\n",
       "LoanAmount         0.57070849      0.1591519703      1.00000000\n",
       "Loan_Amount_Term  -0.06286105     -0.0002895206      0.02323917\n",
       "Credit_History    -0.02377860     -0.0108471425     -0.01815573\n",
       "                  Loan_Amount_Term Credit_History\n",
       "ApplicantIncome   -0.0628610527    -0.02377860   \n",
       "CoapplicantIncome -0.0002895206    -0.01084714   \n",
       "LoanAmount         0.0232391675    -0.01815573   \n",
       "Loan_Amount_Term   1.0000000000     0.00865753   \n",
       "Credit_History     0.0086575296     1.00000000   "
      ]
     },
     "metadata": {},
     "output_type": "display_data"
    }
   ],
   "source": [
    "cor_matrix"
   ]
  },
  {
   "cell_type": "markdown",
   "metadata": {},
   "source": [
    "As none of the correlations is close to 1, we can say that the quantitative variables do not show collinearity."
   ]
  },
  {
   "cell_type": "markdown",
   "metadata": {},
   "source": [
    "Descriptive analysis of the data."
   ]
  },
  {
   "cell_type": "code",
   "execution_count": 8,
   "metadata": {},
   "outputs": [
    {
     "data": {
      "text/plain": [
       "    Gender            Married           Dependents         Education        \n",
       " Length:529         Length:529         Length:529         Length:529        \n",
       " Class :character   Class :character   Class :character   Class :character  \n",
       " Mode  :character   Mode  :character   Mode  :character   Mode  :character  \n",
       "                                                                            \n",
       "                                                                            \n",
       "                                                                            \n",
       " Self_Employed      ApplicantIncome CoapplicantIncome   LoanAmount   \n",
       " Length:529         Min.   :  150   Min.   :    0     Min.   :  9.0  \n",
       " Class :character   1st Qu.: 2900   1st Qu.:    0     1st Qu.:100.0  \n",
       " Mode  :character   Median : 3816   Median : 1086     Median :128.0  \n",
       "                    Mean   : 5508   Mean   : 1542     Mean   :145.9  \n",
       "                    3rd Qu.: 5815   3rd Qu.: 2232     3rd Qu.:167.0  \n",
       "                    Max.   :81000   Max.   :33837     Max.   :700.0  \n",
       " Loan_Amount_Term Credit_History   Property_Area      Loan_Status\n",
       " Min.   : 36.0    Min.   :0.0000   Length:529         N:163      \n",
       " 1st Qu.:360.0    1st Qu.:1.0000   Class :character   Y:366      \n",
       " Median :360.0    Median :1.0000   Mode  :character              \n",
       " Mean   :342.4    Mean   :0.8507                                 \n",
       " 3rd Qu.:360.0    3rd Qu.:1.0000                                 \n",
       " Max.   :480.0    Max.   :1.0000                                 "
      ]
     },
     "metadata": {},
     "output_type": "display_data"
    },
    {
     "name": "stderr",
     "output_type": "stream",
     "text": [
      "Warning message in var(if (is.vector(x) || is.factor(x)) x else as.double(x), na.rm = na.rm):\n",
      "\"NAs introduced by coercion\"Warning message in var(if (is.vector(x) || is.factor(x)) x else as.double(x), na.rm = na.rm):\n",
      "\"NAs introduced by coercion\"Warning message in var(if (is.vector(x) || is.factor(x)) x else as.double(x), na.rm = na.rm):\n",
      "\"NAs introduced by coercion\"Warning message in var(if (is.vector(x) || is.factor(x)) x else as.double(x), na.rm = na.rm):\n",
      "\"NAs introduced by coercion\"Warning message in var(if (is.vector(x) || is.factor(x)) x else as.double(x), na.rm = na.rm):\n",
      "\"NAs introduced by coercion\"Warning message in var(if (is.vector(x) || is.factor(x)) x else as.double(x), na.rm = na.rm):\n",
      "\"NAs introduced by coercion\"Warning message in var(if (is.vector(x) || is.factor(x)) x else as.double(x), na.rm = na.rm):\n",
      "\"Calling var(x) on a factor x is deprecated and will become an error.\n",
      "  Use something like 'all(duplicated(x)[-1L])' to test for a constant vector.\""
     ]
    },
    {
     "data": {
      "text/html": [
       "<dl class=dl-horizontal>\n",
       "\t<dt>Gender</dt>\n",
       "\t\t<dd>&lt;NA&gt;</dd>\n",
       "\t<dt>Married</dt>\n",
       "\t\t<dd>&lt;NA&gt;</dd>\n",
       "\t<dt>Dependents</dt>\n",
       "\t\t<dd>&lt;NA&gt;</dd>\n",
       "\t<dt>Education</dt>\n",
       "\t\t<dd>&lt;NA&gt;</dd>\n",
       "\t<dt>Self_Employed</dt>\n",
       "\t\t<dd>&lt;NA&gt;</dd>\n",
       "\t<dt>ApplicantIncome</dt>\n",
       "\t\t<dd>6404.13236933554</dd>\n",
       "\t<dt>CoapplicantIncome</dt>\n",
       "\t\t<dd>2524.29579690954</dd>\n",
       "\t<dt>LoanAmount</dt>\n",
       "\t\t<dd>84.1084087950073</dd>\n",
       "\t<dt>Loan_Amount_Term</dt>\n",
       "\t\t<dd>64.8616622468224</dd>\n",
       "\t<dt>Credit_History</dt>\n",
       "\t\t<dd>0.35675905530703</dd>\n",
       "\t<dt>Property_Area</dt>\n",
       "\t\t<dd>&lt;NA&gt;</dd>\n",
       "\t<dt>Loan_Status</dt>\n",
       "\t\t<dd>0.462157012991427</dd>\n",
       "</dl>\n"
      ],
      "text/latex": [
       "\\begin{description*}\n",
       "\\item[Gender] <NA>\n",
       "\\item[Married] <NA>\n",
       "\\item[Dependents] <NA>\n",
       "\\item[Education] <NA>\n",
       "\\item[Self\\textbackslash{}\\_Employed] <NA>\n",
       "\\item[ApplicantIncome] 6404.13236933554\n",
       "\\item[CoapplicantIncome] 2524.29579690954\n",
       "\\item[LoanAmount] 84.1084087950073\n",
       "\\item[Loan\\textbackslash{}\\_Amount\\textbackslash{}\\_Term] 64.8616622468224\n",
       "\\item[Credit\\textbackslash{}\\_History] 0.35675905530703\n",
       "\\item[Property\\textbackslash{}\\_Area] <NA>\n",
       "\\item[Loan\\textbackslash{}\\_Status] 0.462157012991427\n",
       "\\end{description*}\n"
      ],
      "text/markdown": [
       "Gender\n",
       ":   &lt;NA&gt;Married\n",
       ":   &lt;NA&gt;Dependents\n",
       ":   &lt;NA&gt;Education\n",
       ":   &lt;NA&gt;Self_Employed\n",
       ":   &lt;NA&gt;ApplicantIncome\n",
       ":   6404.13236933554CoapplicantIncome\n",
       ":   2524.29579690954LoanAmount\n",
       ":   84.1084087950073Loan_Amount_Term\n",
       ":   64.8616622468224Credit_History\n",
       ":   0.35675905530703Property_Area\n",
       ":   &lt;NA&gt;Loan_Status\n",
       ":   0.462157012991427\n",
       "\n"
      ],
      "text/plain": [
       "           Gender           Married        Dependents         Education \n",
       "               NA                NA                NA                NA \n",
       "    Self_Employed   ApplicantIncome CoapplicantIncome        LoanAmount \n",
       "               NA      6404.1323693      2524.2957969        84.1084088 \n",
       " Loan_Amount_Term    Credit_History     Property_Area       Loan_Status \n",
       "       64.8616622         0.3567591                NA         0.4621570 "
      ]
     },
     "metadata": {},
     "output_type": "display_data"
    }
   ],
   "source": [
    "summary(loan_train)\n",
    "sapply(loan_train, sd)"
   ]
  },
  {
   "cell_type": "code",
   "execution_count": 9,
   "metadata": {},
   "outputs": [
    {
     "name": "stderr",
     "output_type": "stream",
     "text": [
      "Loading required package: GGally\n",
      "\n",
      "Attaching package: 'GGally'\n",
      "\n",
      "The following object is masked from 'package:dplyr':\n",
      "\n",
      "    nasa\n",
      "\n"
     ]
    },
    {
     "data": {},
     "metadata": {},
     "output_type": "display_data"
    },
    {
     "name": "stderr",
     "output_type": "stream",
     "text": [
      "`stat_bin()` using `bins = 30`. Pick better value with `binwidth`.\n",
      "`stat_bin()` using `bins = 30`. Pick better value with `binwidth`.\n",
      "`stat_bin()` using `bins = 30`. Pick better value with `binwidth`.\n",
      "`stat_bin()` using `bins = 30`. Pick better value with `binwidth`.\n",
      "`stat_bin()` using `bins = 30`. Pick better value with `binwidth`.\n"
     ]
    },
    {
     "data": {},
     "metadata": {},
     "output_type": "display_data"
    },
    {
     "data": {
      "image/png": "[encoded data removed]",
      "text/plain": [
       "plot without title"
      ]
     },
     "metadata": {},
     "output_type": "display_data"
    },
    {
     "data": {},
     "metadata": {},
     "output_type": "display_data"
    },
    {
     "data": {
      "image/png": "[encoded data removed]",
      "text/plain": [
       "plot without title"
      ]
     },
     "metadata": {},
     "output_type": "display_data"
    },
    {
     "data": {
      "image/png": "[encoded data removed]",
      "text/plain": [
       "plot without title"
      ]
     },
     "metadata": {},
     "output_type": "display_data"
    }
   ],
   "source": [
    "if(!require(GGally)) {install.packages(\"GGally\"); require(GGally)}\n",
    "pm <- ggpairs(loan_train, columns = c(\"Gender\", \"Married\", \"Dependents\", \"Education\", \"Self_Employed\", \"Loan_Status\"))\n",
    "pm1 <- ggpairs(loan_train, columns = c(\"ApplicantIncome\", \"CoapplicantIncome\", \"LoanAmount\", \"Loan_Amount_Term\", \"Credit_History\", \"Loan_Status\"))\n",
    "pm2 <- ggpairs(loan_train, columns = 11:12)\n",
    "pm\n",
    "pm1\n",
    "pm2"
   ]
  },
  {
   "cell_type": "markdown",
   "metadata": {},
   "source": [
    "As we can see from the above paired plots, there are some variables which does not have high impact on the loan status, and these are ApplicantIncome, Loan_Amount_Term and Property_Area. Now we will fit a logistic regression model with all the variables and analyse the coefficients and verify that whether our descriptive analysis is in line with our model. We will split the data into training and test sets, with training set containing 75% of the observations and the test set containing 25% of the observations."
   ]
  },
  {
   "cell_type": "code",
   "execution_count": 10,
   "metadata": {},
   "outputs": [
    {
     "data": {
      "text/plain": [
       "\n",
       "Call:\n",
       "glm(formula = Loan_Status ~ ., family = \"binomial\", data = train_data)\n",
       "\n",
       "Deviance Residuals: \n",
       "    Min       1Q   Median       3Q      Max  \n",
       "-2.2923  -0.4113   0.5099   0.7067   2.3808  \n",
       "\n",
       "Coefficients:\n",
       "                         Estimate Std. Error z value Pr(>|z|)    \n",
       "(Intercept)             1.295e+01  6.188e+02   0.021  0.98330    \n",
       "GenderFemale           -1.325e+00  1.324e+00  -1.001  0.31692    \n",
       "GenderMale             -8.628e-01  1.287e+00  -0.671  0.50249    \n",
       "MarriedNo              -1.356e+01  6.188e+02  -0.022  0.98252    \n",
       "MarriedYes             -1.305e+01  6.188e+02  -0.021  0.98317    \n",
       "Dependents0             2.000e-01  1.088e+00   0.184  0.85416    \n",
       "Dependents1            -3.692e-02  1.121e+00  -0.033  0.97373    \n",
       "Dependents2             5.441e-01  1.115e+00   0.488  0.62540    \n",
       "Dependents3+            3.042e-01  1.167e+00   0.261  0.79438    \n",
       "EducationNot Graduate  -7.199e-01  3.311e-01  -2.174  0.02968 *  \n",
       "Self_EmployedNo        -5.535e-01  6.091e-01  -0.909  0.36348    \n",
       "Self_EmployedYes       -6.748e-01  6.875e-01  -0.982  0.32634    \n",
       "ApplicantIncome         4.759e-06  3.035e-05   0.157  0.87538    \n",
       "CoapplicantIncome      -4.509e-05  4.791e-05  -0.941  0.34663    \n",
       "LoanAmount             -2.750e-03  1.945e-03  -1.414  0.15739    \n",
       "Loan_Amount_Term       -1.717e-03  2.349e-03  -0.731  0.46459    \n",
       "Credit_History          3.703e+00  4.857e-01   7.625 2.44e-14 ***\n",
       "Property_AreaSemiurban  8.903e-01  3.308e-01   2.691  0.00712 ** \n",
       "Property_AreaUrban      1.288e-01  3.394e-01   0.379  0.70438    \n",
       "---\n",
       "Signif. codes:  0 '***' 0.001 '**' 0.01 '*' 0.05 '.' 0.1 ' ' 1\n",
       "\n",
       "(Dispersion parameter for binomial family taken to be 1)\n",
       "\n",
       "    Null deviance: 492.29  on 395  degrees of freedom\n",
       "Residual deviance: 358.69  on 377  degrees of freedom\n",
       "AIC: 396.69\n",
       "\n",
       "Number of Fisher Scoring iterations: 13\n"
      ]
     },
     "metadata": {},
     "output_type": "display_data"
    }
   ],
   "source": [
    "set.seed(123)\n",
    "index = sample(1:nrow(loan_train), size = .75*nrow(loan_train))\n",
    "train_data = loan_train[index,]\n",
    "validation_data = loan_train[-index,]\n",
    "glm_fit <- glm(Loan_Status ~ ., data = train_data, family = \"binomial\")\n",
    "summary(glm_fit)"
   ]
  },
  {
   "cell_type": "code",
   "execution_count": 11,
   "metadata": {},
   "outputs": [
    {
     "data": {
      "text/html": [
       "<dl class=dl-horizontal>\n",
       "\t<dt>1</dt>\n",
       "\t\t<dd>0.786118408044372</dd>\n",
       "\t<dt>2</dt>\n",
       "\t\t<dd>0.876102837202169</dd>\n",
       "\t<dt>3</dt>\n",
       "\t\t<dd>0.786118408044372</dd>\n",
       "\t<dt>4</dt>\n",
       "\t\t<dd>0.786118408044372</dd>\n",
       "\t<dt>5</dt>\n",
       "\t\t<dd>0.118750589187869</dd>\n",
       "\t<dt>6</dt>\n",
       "\t\t<dd>0.0477000155848052</dd>\n",
       "\t<dt>7</dt>\n",
       "\t\t<dd>0.724401060679686</dd>\n",
       "\t<dt>8</dt>\n",
       "\t\t<dd>0.786118408044372</dd>\n",
       "\t<dt>9</dt>\n",
       "\t\t<dd>0.876102837202169</dd>\n",
       "\t<dt>10</dt>\n",
       "\t\t<dd>0.786118408044372</dd>\n",
       "\t<dt>11</dt>\n",
       "\t\t<dd>0.0654571349151331</dd>\n",
       "\t<dt>12</dt>\n",
       "\t\t<dd>0.876102837202169</dd>\n",
       "\t<dt>13</dt>\n",
       "\t\t<dd>0.786118408044372</dd>\n",
       "\t<dt>14</dt>\n",
       "\t\t<dd>0.724401060679686</dd>\n",
       "\t<dt>15</dt>\n",
       "\t\t<dd>0.786118408044372</dd>\n",
       "\t<dt>16</dt>\n",
       "\t\t<dd>0.0477000155848052</dd>\n",
       "\t<dt>17</dt>\n",
       "\t\t<dd>0.786118408044372</dd>\n",
       "\t<dt>18</dt>\n",
       "\t\t<dd>0.786118408044372</dd>\n",
       "\t<dt>19</dt>\n",
       "\t\t<dd>0.118750589187869</dd>\n",
       "\t<dt>20</dt>\n",
       "\t\t<dd>0.876102837202169</dd>\n",
       "\t<dt>21</dt>\n",
       "\t\t<dd>0.876102837202169</dd>\n",
       "\t<dt>22</dt>\n",
       "\t\t<dd>0.786118408044372</dd>\n",
       "\t<dt>23</dt>\n",
       "\t\t<dd>0.876102837202169</dd>\n",
       "\t<dt>24</dt>\n",
       "\t\t<dd>0.786118408044372</dd>\n",
       "\t<dt>25</dt>\n",
       "\t\t<dd>0.724401060679686</dd>\n",
       "\t<dt>26</dt>\n",
       "\t\t<dd>0.118750589187869</dd>\n",
       "\t<dt>27</dt>\n",
       "\t\t<dd>0.724401060679686</dd>\n",
       "\t<dt>28</dt>\n",
       "\t\t<dd>0.724401060679686</dd>\n",
       "\t<dt>29</dt>\n",
       "\t\t<dd>0.0654571349151331</dd>\n",
       "\t<dt>30</dt>\n",
       "\t\t<dd>0.786118408044372</dd>\n",
       "\t<dt>31</dt>\n",
       "\t\t<dd>0.786118408044372</dd>\n",
       "\t<dt>32</dt>\n",
       "\t\t<dd>0.724401060679686</dd>\n",
       "\t<dt>33</dt>\n",
       "\t\t<dd>0.876102837202169</dd>\n",
       "\t<dt>34</dt>\n",
       "\t\t<dd>0.0477000155848052</dd>\n",
       "\t<dt>35</dt>\n",
       "\t\t<dd>0.876102837202169</dd>\n",
       "\t<dt>36</dt>\n",
       "\t\t<dd>0.876102837202169</dd>\n",
       "\t<dt>37</dt>\n",
       "\t\t<dd>0.724401060679686</dd>\n",
       "\t<dt>38</dt>\n",
       "\t\t<dd>0.118750589187869</dd>\n",
       "\t<dt>39</dt>\n",
       "\t\t<dd>0.786118408044372</dd>\n",
       "\t<dt>40</dt>\n",
       "\t\t<dd>0.0654571349151331</dd>\n",
       "\t<dt>41</dt>\n",
       "\t\t<dd>0.876102837202169</dd>\n",
       "\t<dt>42</dt>\n",
       "\t\t<dd>0.724401060679686</dd>\n",
       "\t<dt>43</dt>\n",
       "\t\t<dd>0.876102837202169</dd>\n",
       "\t<dt>44</dt>\n",
       "\t\t<dd>0.786118408044372</dd>\n",
       "\t<dt>45</dt>\n",
       "\t\t<dd>0.786118408044372</dd>\n",
       "\t<dt>46</dt>\n",
       "\t\t<dd>0.724401060679686</dd>\n",
       "\t<dt>47</dt>\n",
       "\t\t<dd>0.876102837202169</dd>\n",
       "\t<dt>48</dt>\n",
       "\t\t<dd>0.876102837202169</dd>\n",
       "\t<dt>49</dt>\n",
       "\t\t<dd>0.876102837202169</dd>\n",
       "\t<dt>50</dt>\n",
       "\t\t<dd>0.876102837202169</dd>\n",
       "\t<dt>51</dt>\n",
       "\t\t<dd>0.724401060679686</dd>\n",
       "\t<dt>52</dt>\n",
       "\t\t<dd>0.786118408044372</dd>\n",
       "\t<dt>53</dt>\n",
       "\t\t<dd>0.876102837202169</dd>\n",
       "\t<dt>54</dt>\n",
       "\t\t<dd>0.724401060679686</dd>\n",
       "\t<dt>55</dt>\n",
       "\t\t<dd>0.724401060679686</dd>\n",
       "\t<dt>56</dt>\n",
       "\t\t<dd>0.876102837202169</dd>\n",
       "\t<dt>57</dt>\n",
       "\t\t<dd>0.876102837202169</dd>\n",
       "\t<dt>58</dt>\n",
       "\t\t<dd>0.876102837202169</dd>\n",
       "\t<dt>59</dt>\n",
       "\t\t<dd>0.0654571349151331</dd>\n",
       "\t<dt>60</dt>\n",
       "\t\t<dd>0.724401060679686</dd>\n",
       "\t<dt>61</dt>\n",
       "\t\t<dd>0.876102837202169</dd>\n",
       "\t<dt>62</dt>\n",
       "\t\t<dd>0.724401060679686</dd>\n",
       "\t<dt>63</dt>\n",
       "\t\t<dd>0.786118408044372</dd>\n",
       "\t<dt>64</dt>\n",
       "\t\t<dd>0.0654571349151331</dd>\n",
       "\t<dt>65</dt>\n",
       "\t\t<dd>0.786118408044372</dd>\n",
       "\t<dt>66</dt>\n",
       "\t\t<dd>0.0654571349151331</dd>\n",
       "\t<dt>67</dt>\n",
       "\t\t<dd>0.724401060679686</dd>\n",
       "\t<dt>68</dt>\n",
       "\t\t<dd>0.786118408044372</dd>\n",
       "\t<dt>69</dt>\n",
       "\t\t<dd>0.724401060679686</dd>\n",
       "\t<dt>70</dt>\n",
       "\t\t<dd>0.724401060679686</dd>\n",
       "\t<dt>71</dt>\n",
       "\t\t<dd>0.724401060679686</dd>\n",
       "\t<dt>72</dt>\n",
       "\t\t<dd>0.786118408044372</dd>\n",
       "\t<dt>73</dt>\n",
       "\t\t<dd>0.724401060679686</dd>\n",
       "\t<dt>74</dt>\n",
       "\t\t<dd>0.724401060679686</dd>\n",
       "\t<dt>75</dt>\n",
       "\t\t<dd>0.786118408044372</dd>\n",
       "\t<dt>76</dt>\n",
       "\t\t<dd>0.786118408044372</dd>\n",
       "\t<dt>77</dt>\n",
       "\t\t<dd>0.786118408044372</dd>\n",
       "\t<dt>78</dt>\n",
       "\t\t<dd>0.724401060679686</dd>\n",
       "\t<dt>79</dt>\n",
       "\t\t<dd>0.876102837202169</dd>\n",
       "\t<dt>80</dt>\n",
       "\t\t<dd>0.724401060679686</dd>\n",
       "\t<dt>81</dt>\n",
       "\t\t<dd>0.876102837202169</dd>\n",
       "\t<dt>82</dt>\n",
       "\t\t<dd>0.786118408044372</dd>\n",
       "\t<dt>83</dt>\n",
       "\t\t<dd>0.724401060679686</dd>\n",
       "\t<dt>84</dt>\n",
       "\t\t<dd>0.786118408044372</dd>\n",
       "\t<dt>85</dt>\n",
       "\t\t<dd>0.724401060679686</dd>\n",
       "\t<dt>86</dt>\n",
       "\t\t<dd>0.876102837202169</dd>\n",
       "\t<dt>87</dt>\n",
       "\t\t<dd>0.724401060679686</dd>\n",
       "\t<dt>88</dt>\n",
       "\t\t<dd>0.724401060679686</dd>\n",
       "\t<dt>89</dt>\n",
       "\t\t<dd>0.786118408044372</dd>\n",
       "\t<dt>90</dt>\n",
       "\t\t<dd>0.118750589187869</dd>\n",
       "\t<dt>91</dt>\n",
       "\t\t<dd>0.786118408044372</dd>\n",
       "\t<dt>92</dt>\n",
       "\t\t<dd>0.786118408044372</dd>\n",
       "\t<dt>93</dt>\n",
       "\t\t<dd>0.876102837202169</dd>\n",
       "\t<dt>94</dt>\n",
       "\t\t<dd>0.724401060679686</dd>\n",
       "\t<dt>95</dt>\n",
       "\t\t<dd>0.724401060679686</dd>\n",
       "\t<dt>96</dt>\n",
       "\t\t<dd>0.876102837202169</dd>\n",
       "\t<dt>97</dt>\n",
       "\t\t<dd>0.876102837202169</dd>\n",
       "\t<dt>98</dt>\n",
       "\t\t<dd>0.724401060679686</dd>\n",
       "\t<dt>99</dt>\n",
       "\t\t<dd>0.876102837202169</dd>\n",
       "\t<dt>100</dt>\n",
       "\t\t<dd>0.876102837202169</dd>\n",
       "\t<dt>101</dt>\n",
       "\t\t<dd>0.786118408044372</dd>\n",
       "\t<dt>102</dt>\n",
       "\t\t<dd>0.876102837202169</dd>\n",
       "\t<dt>103</dt>\n",
       "\t\t<dd>0.876102837202169</dd>\n",
       "\t<dt>104</dt>\n",
       "\t\t<dd>0.876102837202169</dd>\n",
       "\t<dt>105</dt>\n",
       "\t\t<dd>0.876102837202169</dd>\n",
       "\t<dt>106</dt>\n",
       "\t\t<dd>0.724401060679686</dd>\n",
       "\t<dt>107</dt>\n",
       "\t\t<dd>0.0477000155848052</dd>\n",
       "\t<dt>108</dt>\n",
       "\t\t<dd>0.876102837202169</dd>\n",
       "\t<dt>109</dt>\n",
       "\t\t<dd>0.786118408044372</dd>\n",
       "\t<dt>110</dt>\n",
       "\t\t<dd>0.786118408044372</dd>\n",
       "\t<dt>111</dt>\n",
       "\t\t<dd>0.786118408044372</dd>\n",
       "\t<dt>112</dt>\n",
       "\t\t<dd>0.876102837202169</dd>\n",
       "\t<dt>113</dt>\n",
       "\t\t<dd>0.876102837202169</dd>\n",
       "\t<dt>114</dt>\n",
       "\t\t<dd>0.786118408044372</dd>\n",
       "\t<dt>115</dt>\n",
       "\t\t<dd>0.786118408044372</dd>\n",
       "\t<dt>116</dt>\n",
       "\t\t<dd>0.876102837202169</dd>\n",
       "\t<dt>117</dt>\n",
       "\t\t<dd>0.724401060679686</dd>\n",
       "\t<dt>118</dt>\n",
       "\t\t<dd>0.786118408044372</dd>\n",
       "\t<dt>119</dt>\n",
       "\t\t<dd>0.0477000155848052</dd>\n",
       "\t<dt>120</dt>\n",
       "\t\t<dd>0.876102837202169</dd>\n",
       "\t<dt>121</dt>\n",
       "\t\t<dd>0.876102837202169</dd>\n",
       "\t<dt>122</dt>\n",
       "\t\t<dd>0.786118408044372</dd>\n",
       "\t<dt>123</dt>\n",
       "\t\t<dd>0.0654571349151331</dd>\n",
       "\t<dt>124</dt>\n",
       "\t\t<dd>0.786118408044372</dd>\n",
       "\t<dt>125</dt>\n",
       "\t\t<dd>0.118750589187869</dd>\n",
       "\t<dt>126</dt>\n",
       "\t\t<dd>0.0477000155848052</dd>\n",
       "\t<dt>127</dt>\n",
       "\t\t<dd>0.876102837202169</dd>\n",
       "\t<dt>128</dt>\n",
       "\t\t<dd>0.724401060679686</dd>\n",
       "\t<dt>129</dt>\n",
       "\t\t<dd>0.118750589187869</dd>\n",
       "\t<dt>130</dt>\n",
       "\t\t<dd>0.786118408044372</dd>\n",
       "\t<dt>131</dt>\n",
       "\t\t<dd>0.876102837202169</dd>\n",
       "\t<dt>132</dt>\n",
       "\t\t<dd>0.724401060679686</dd>\n",
       "\t<dt>133</dt>\n",
       "\t\t<dd>0.786118408044372</dd>\n",
       "</dl>\n"
      ],
      "text/latex": [
       "\\begin{description*}\n",
       "\\item[1] 0.786118408044372\n",
       "\\item[2] 0.876102837202169\n",
       "\\item[3] 0.786118408044372\n",
       "\\item[4] 0.786118408044372\n",
       "\\item[5] 0.118750589187869\n",
       "\\item[6] 0.0477000155848052\n",
       "\\item[7] 0.724401060679686\n",
       "\\item[8] 0.786118408044372\n",
       "\\item[9] 0.876102837202169\n",
       "\\item[10] 0.786118408044372\n",
       "\\item[11] 0.0654571349151331\n",
       "\\item[12] 0.876102837202169\n",
       "\\item[13] 0.786118408044372\n",
       "\\item[14] 0.724401060679686\n",
       "\\item[15] 0.786118408044372\n",
       "\\item[16] 0.0477000155848052\n",
       "\\item[17] 0.786118408044372\n",
       "\\item[18] 0.786118408044372\n",
       "\\item[19] 0.118750589187869\n",
       "\\item[20] 0.876102837202169\n",
       "\\item[21] 0.876102837202169\n",
       "\\item[22] 0.786118408044372\n",
       "\\item[23] 0.876102837202169\n",
       "\\item[24] 0.786118408044372\n",
       "\\item[25] 0.724401060679686\n",
       "\\item[26] 0.118750589187869\n",
       "\\item[27] 0.724401060679686\n",
       "\\item[28] 0.724401060679686\n",
       "\\item[29] 0.0654571349151331\n",
       "\\item[30] 0.786118408044372\n",
       "\\item[31] 0.786118408044372\n",
       "\\item[32] 0.724401060679686\n",
       "\\item[33] 0.876102837202169\n",
       "\\item[34] 0.0477000155848052\n",
       "\\item[35] 0.876102837202169\n",
       "\\item[36] 0.876102837202169\n",
       "\\item[37] 0.724401060679686\n",
       "\\item[38] 0.118750589187869\n",
       "\\item[39] 0.786118408044372\n",
       "\\item[40] 0.0654571349151331\n",
       "\\item[41] 0.876102837202169\n",
       "\\item[42] 0.724401060679686\n",
       "\\item[43] 0.876102837202169\n",
       "\\item[44] 0.786118408044372\n",
       "\\item[45] 0.786118408044372\n",
       "\\item[46] 0.724401060679686\n",
       "\\item[47] 0.876102837202169\n",
       "\\item[48] 0.876102837202169\n",
       "\\item[49] 0.876102837202169\n",
       "\\item[50] 0.876102837202169\n",
       "\\item[51] 0.724401060679686\n",
       "\\item[52] 0.786118408044372\n",
       "\\item[53] 0.876102837202169\n",
       "\\item[54] 0.724401060679686\n",
       "\\item[55] 0.724401060679686\n",
       "\\item[56] 0.876102837202169\n",
       "\\item[57] 0.876102837202169\n",
       "\\item[58] 0.876102837202169\n",
       "\\item[59] 0.0654571349151331\n",
       "\\item[60] 0.724401060679686\n",
       "\\item[61] 0.876102837202169\n",
       "\\item[62] 0.724401060679686\n",
       "\\item[63] 0.786118408044372\n",
       "\\item[64] 0.0654571349151331\n",
       "\\item[65] 0.786118408044372\n",
       "\\item[66] 0.0654571349151331\n",
       "\\item[67] 0.724401060679686\n",
       "\\item[68] 0.786118408044372\n",
       "\\item[69] 0.724401060679686\n",
       "\\item[70] 0.724401060679686\n",
       "\\item[71] 0.724401060679686\n",
       "\\item[72] 0.786118408044372\n",
       "\\item[73] 0.724401060679686\n",
       "\\item[74] 0.724401060679686\n",
       "\\item[75] 0.786118408044372\n",
       "\\item[76] 0.786118408044372\n",
       "\\item[77] 0.786118408044372\n",
       "\\item[78] 0.724401060679686\n",
       "\\item[79] 0.876102837202169\n",
       "\\item[80] 0.724401060679686\n",
       "\\item[81] 0.876102837202169\n",
       "\\item[82] 0.786118408044372\n",
       "\\item[83] 0.724401060679686\n",
       "\\item[84] 0.786118408044372\n",
       "\\item[85] 0.724401060679686\n",
       "\\item[86] 0.876102837202169\n",
       "\\item[87] 0.724401060679686\n",
       "\\item[88] 0.724401060679686\n",
       "\\item[89] 0.786118408044372\n",
       "\\item[90] 0.118750589187869\n",
       "\\item[91] 0.786118408044372\n",
       "\\item[92] 0.786118408044372\n",
       "\\item[93] 0.876102837202169\n",
       "\\item[94] 0.724401060679686\n",
       "\\item[95] 0.724401060679686\n",
       "\\item[96] 0.876102837202169\n",
       "\\item[97] 0.876102837202169\n",
       "\\item[98] 0.724401060679686\n",
       "\\item[99] 0.876102837202169\n",
       "\\item[100] 0.876102837202169\n",
       "\\item[101] 0.786118408044372\n",
       "\\item[102] 0.876102837202169\n",
       "\\item[103] 0.876102837202169\n",
       "\\item[104] 0.876102837202169\n",
       "\\item[105] 0.876102837202169\n",
       "\\item[106] 0.724401060679686\n",
       "\\item[107] 0.0477000155848052\n",
       "\\item[108] 0.876102837202169\n",
       "\\item[109] 0.786118408044372\n",
       "\\item[110] 0.786118408044372\n",
       "\\item[111] 0.786118408044372\n",
       "\\item[112] 0.876102837202169\n",
       "\\item[113] 0.876102837202169\n",
       "\\item[114] 0.786118408044372\n",
       "\\item[115] 0.786118408044372\n",
       "\\item[116] 0.876102837202169\n",
       "\\item[117] 0.724401060679686\n",
       "\\item[118] 0.786118408044372\n",
       "\\item[119] 0.0477000155848052\n",
       "\\item[120] 0.876102837202169\n",
       "\\item[121] 0.876102837202169\n",
       "\\item[122] 0.786118408044372\n",
       "\\item[123] 0.0654571349151331\n",
       "\\item[124] 0.786118408044372\n",
       "\\item[125] 0.118750589187869\n",
       "\\item[126] 0.0477000155848052\n",
       "\\item[127] 0.876102837202169\n",
       "\\item[128] 0.724401060679686\n",
       "\\item[129] 0.118750589187869\n",
       "\\item[130] 0.786118408044372\n",
       "\\item[131] 0.876102837202169\n",
       "\\item[132] 0.724401060679686\n",
       "\\item[133] 0.786118408044372\n",
       "\\end{description*}\n"
      ],
      "text/markdown": [
       "1\n",
       ":   0.7861184080443722\n",
       ":   0.8761028372021693\n",
       ":   0.7861184080443724\n",
       ":   0.7861184080443725\n",
       ":   0.1187505891878696\n",
       ":   0.04770001558480527\n",
       ":   0.7244010606796868\n",
       ":   0.7861184080443729\n",
       ":   0.87610283720216910\n",
       ":   0.78611840804437211\n",
       ":   0.065457134915133112\n",
       ":   0.87610283720216913\n",
       ":   0.78611840804437214\n",
       ":   0.72440106067968615\n",
       ":   0.78611840804437216\n",
       ":   0.047700015584805217\n",
       ":   0.78611840804437218\n",
       ":   0.78611840804437219\n",
       ":   0.11875058918786920\n",
       ":   0.87610283720216921\n",
       ":   0.87610283720216922\n",
       ":   0.78611840804437223\n",
       ":   0.87610283720216924\n",
       ":   0.78611840804437225\n",
       ":   0.72440106067968626\n",
       ":   0.11875058918786927\n",
       ":   0.72440106067968628\n",
       ":   0.72440106067968629\n",
       ":   0.065457134915133130\n",
       ":   0.78611840804437231\n",
       ":   0.78611840804437232\n",
       ":   0.72440106067968633\n",
       ":   0.87610283720216934\n",
       ":   0.047700015584805235\n",
       ":   0.87610283720216936\n",
       ":   0.87610283720216937\n",
       ":   0.72440106067968638\n",
       ":   0.11875058918786939\n",
       ":   0.78611840804437240\n",
       ":   0.065457134915133141\n",
       ":   0.87610283720216942\n",
       ":   0.72440106067968643\n",
       ":   0.87610283720216944\n",
       ":   0.78611840804437245\n",
       ":   0.78611840804437246\n",
       ":   0.72440106067968647\n",
       ":   0.87610283720216948\n",
       ":   0.87610283720216949\n",
       ":   0.87610283720216950\n",
       ":   0.87610283720216951\n",
       ":   0.72440106067968652\n",
       ":   0.78611840804437253\n",
       ":   0.87610283720216954\n",
       ":   0.72440106067968655\n",
       ":   0.72440106067968656\n",
       ":   0.87610283720216957\n",
       ":   0.87610283720216958\n",
       ":   0.87610283720216959\n",
       ":   0.065457134915133160\n",
       ":   0.72440106067968661\n",
       ":   0.87610283720216962\n",
       ":   0.72440106067968663\n",
       ":   0.78611840804437264\n",
       ":   0.065457134915133165\n",
       ":   0.78611840804437266\n",
       ":   0.065457134915133167\n",
       ":   0.72440106067968668\n",
       ":   0.78611840804437269\n",
       ":   0.72440106067968670\n",
       ":   0.72440106067968671\n",
       ":   0.72440106067968672\n",
       ":   0.78611840804437273\n",
       ":   0.72440106067968674\n",
       ":   0.72440106067968675\n",
       ":   0.78611840804437276\n",
       ":   0.78611840804437277\n",
       ":   0.78611840804437278\n",
       ":   0.72440106067968679\n",
       ":   0.87610283720216980\n",
       ":   0.72440106067968681\n",
       ":   0.87610283720216982\n",
       ":   0.78611840804437283\n",
       ":   0.72440106067968684\n",
       ":   0.78611840804437285\n",
       ":   0.72440106067968686\n",
       ":   0.87610283720216987\n",
       ":   0.72440106067968688\n",
       ":   0.72440106067968689\n",
       ":   0.78611840804437290\n",
       ":   0.11875058918786991\n",
       ":   0.78611840804437292\n",
       ":   0.78611840804437293\n",
       ":   0.87610283720216994\n",
       ":   0.72440106067968695\n",
       ":   0.72440106067968696\n",
       ":   0.87610283720216997\n",
       ":   0.87610283720216998\n",
       ":   0.72440106067968699\n",
       ":   0.876102837202169100\n",
       ":   0.876102837202169101\n",
       ":   0.786118408044372102\n",
       ":   0.876102837202169103\n",
       ":   0.876102837202169104\n",
       ":   0.876102837202169105\n",
       ":   0.876102837202169106\n",
       ":   0.724401060679686107\n",
       ":   0.0477000155848052108\n",
       ":   0.876102837202169109\n",
       ":   0.786118408044372110\n",
       ":   0.786118408044372111\n",
       ":   0.786118408044372112\n",
       ":   0.876102837202169113\n",
       ":   0.876102837202169114\n",
       ":   0.786118408044372115\n",
       ":   0.786118408044372116\n",
       ":   0.876102837202169117\n",
       ":   0.724401060679686118\n",
       ":   0.786118408044372119\n",
       ":   0.0477000155848052120\n",
       ":   0.876102837202169121\n",
       ":   0.876102837202169122\n",
       ":   0.786118408044372123\n",
       ":   0.0654571349151331124\n",
       ":   0.786118408044372125\n",
       ":   0.118750589187869126\n",
       ":   0.0477000155848052127\n",
       ":   0.876102837202169128\n",
       ":   0.724401060679686129\n",
       ":   0.118750589187869130\n",
       ":   0.786118408044372131\n",
       ":   0.876102837202169132\n",
       ":   0.724401060679686133\n",
       ":   0.786118408044372\n",
       "\n"
      ],
      "text/plain": [
       "         1          2          3          4          5          6          7 \n",
       "0.78611841 0.87610284 0.78611841 0.78611841 0.11875059 0.04770002 0.72440106 \n",
       "         8          9         10         11         12         13         14 \n",
       "0.78611841 0.87610284 0.78611841 0.06545713 0.87610284 0.78611841 0.72440106 \n",
       "        15         16         17         18         19         20         21 \n",
       "0.78611841 0.04770002 0.78611841 0.78611841 0.11875059 0.87610284 0.87610284 \n",
       "        22         23         24         25         26         27         28 \n",
       "0.78611841 0.87610284 0.78611841 0.72440106 0.11875059 0.72440106 0.72440106 \n",
       "        29         30         31         32         33         34         35 \n",
       "0.06545713 0.78611841 0.78611841 0.72440106 0.87610284 0.04770002 0.87610284 \n",
       "        36         37         38         39         40         41         42 \n",
       "0.87610284 0.72440106 0.11875059 0.78611841 0.06545713 0.87610284 0.72440106 \n",
       "        43         44         45         46         47         48         49 \n",
       "0.87610284 0.78611841 0.78611841 0.72440106 0.87610284 0.87610284 0.87610284 \n",
       "        50         51         52         53         54         55         56 \n",
       "0.87610284 0.72440106 0.78611841 0.87610284 0.72440106 0.72440106 0.87610284 \n",
       "        57         58         59         60         61         62         63 \n",
       "0.87610284 0.87610284 0.06545713 0.72440106 0.87610284 0.72440106 0.78611841 \n",
       "        64         65         66         67         68         69         70 \n",
       "0.06545713 0.78611841 0.06545713 0.72440106 0.78611841 0.72440106 0.72440106 \n",
       "        71         72         73         74         75         76         77 \n",
       "0.72440106 0.78611841 0.72440106 0.72440106 0.78611841 0.78611841 0.78611841 \n",
       "        78         79         80         81         82         83         84 \n",
       "0.72440106 0.87610284 0.72440106 0.87610284 0.78611841 0.72440106 0.78611841 \n",
       "        85         86         87         88         89         90         91 \n",
       "0.72440106 0.87610284 0.72440106 0.72440106 0.78611841 0.11875059 0.78611841 \n",
       "        92         93         94         95         96         97         98 \n",
       "0.78611841 0.87610284 0.72440106 0.72440106 0.87610284 0.87610284 0.72440106 \n",
       "        99        100        101        102        103        104        105 \n",
       "0.87610284 0.87610284 0.78611841 0.87610284 0.87610284 0.87610284 0.87610284 \n",
       "       106        107        108        109        110        111        112 \n",
       "0.72440106 0.04770002 0.87610284 0.78611841 0.78611841 0.78611841 0.87610284 \n",
       "       113        114        115        116        117        118        119 \n",
       "0.87610284 0.78611841 0.78611841 0.87610284 0.72440106 0.78611841 0.04770002 \n",
       "       120        121        122        123        124        125        126 \n",
       "0.87610284 0.87610284 0.78611841 0.06545713 0.78611841 0.11875059 0.04770002 \n",
       "       127        128        129        130        131        132        133 \n",
       "0.87610284 0.72440106 0.11875059 0.78611841 0.87610284 0.72440106 0.78611841 "
      ]
     },
     "metadata": {},
     "output_type": "display_data"
    },
    {
     "data": {
      "text/html": [
       "<table>\n",
       "<thead><tr><th></th><th scope=col>Y</th></tr></thead>\n",
       "<tbody>\n",
       "\t<tr><th scope=row>N</th><td>0</td></tr>\n",
       "\t<tr><th scope=row>Y</th><td>1</td></tr>\n",
       "</tbody>\n",
       "</table>\n"
      ],
      "text/latex": [
       "\\begin{tabular}{r|l}\n",
       "  & Y\\\\\n",
       "\\hline\n",
       "\tN & 0\\\\\n",
       "\tY & 1\\\\\n",
       "\\end{tabular}\n"
      ],
      "text/markdown": [
       "\n",
       "| <!--/--> | Y | \n",
       "|---|---|\n",
       "| N | 0 | \n",
       "| Y | 1 | \n",
       "\n",
       "\n"
      ],
      "text/plain": [
       "  Y\n",
       "N 0\n",
       "Y 1"
      ]
     },
     "metadata": {},
     "output_type": "display_data"
    },
    {
     "data": {
      "text/html": [
       "<ol class=list-inline>\n",
       "\t<li>133</li>\n",
       "\t<li>12</li>\n",
       "</ol>\n"
      ],
      "text/latex": [
       "\\begin{enumerate*}\n",
       "\\item 133\n",
       "\\item 12\n",
       "\\end{enumerate*}\n"
      ],
      "text/markdown": [
       "1. 133\n",
       "2. 12\n",
       "\n",
       "\n"
      ],
      "text/plain": [
       "[1] 133  12"
      ]
     },
     "metadata": {},
     "output_type": "display_data"
    }
   ],
   "source": [
    "glm.probs = predict(glm.fit, validation_data, type = \"response\")\n",
    "glm.probs\n",
    "contrasts(validation_data$Loan_Status)\n",
    "dim(validation_data)"
   ]
  },
  {
   "cell_type": "code",
   "execution_count": 12,
   "metadata": {},
   "outputs": [
    {
     "data": {
      "text/plain": [
       "        \n",
       "glm.pred  N  Y\n",
       "       N 19  1\n",
       "       Y 20 93"
      ]
     },
     "metadata": {},
     "output_type": "display_data"
    },
    {
     "data": {
      "text/html": [
       "0.157894736842105"
      ],
      "text/latex": [
       "0.157894736842105"
      ],
      "text/markdown": [
       "0.157894736842105"
      ],
      "text/plain": [
       "[1] 0.1578947"
      ]
     },
     "metadata": {},
     "output_type": "display_data"
    }
   ],
   "source": [
    "glm.pred = rep(\"N\", 133)\n",
    "glm.pred[glm.probs >.7] = \"Y\"\n",
    "glm.pred = as.factor(glm.pred)\n",
    "table(glm.pred, validation_data$Loan_Status)\n",
    "mean(glm.pred != validation_data$Loan_Status)"
   ]
  },
  {
   "cell_type": "code",
   "execution_count": 13,
   "metadata": {},
   "outputs": [
    {
     "data": {
      "text/plain": [
       "An object of class \"performance\"\n",
       "Slot \"x.name\":\n",
       "[1] \"None\"\n",
       "\n",
       "Slot \"y.name\":\n",
       "[1] \"Area under the ROC curve\"\n",
       "\n",
       "Slot \"alpha.name\":\n",
       "[1] \"none\"\n",
       "\n",
       "Slot \"x.values\":\n",
       "list()\n",
       "\n",
       "Slot \"y.values\":\n",
       "[[1]]\n",
       "[1] 0.7382706\n",
       "\n",
       "\n",
       "Slot \"alpha.values\":\n",
       "list()\n"
      ]
     },
     "metadata": {},
     "output_type": "display_data"
    },
    {
     "data": {
      "image/png": "[encoded data removed]",
      "text/plain": [
       "plot without title"
      ]
     },
     "metadata": {},
     "output_type": "display_data"
    }
   ],
   "source": [
    "pred<-prediction(as.numeric(glm.pred), as.numeric(validation_data$Loan_Status))\n",
    "perf<-performance(pred,\"tpr\", \"fpr\")\n",
    "plot(perf)\n",
    "auc<- performance(pred,\"auc\")\n",
    "auc"
   ]
  },
  {
   "cell_type": "markdown",
   "metadata": {},
   "source": [
    "As we can see from the summary of the above model, the variables which are significant in the prediction of the loan status are Credit_History and Property_Area. Now we will carry out the stepwise regression to check the significance of other predictors. To carry out the backwards stepwise regression, we will use the glm_fit model and do a stepwise regression on it. To carry out the forward stepwise regression, we will develop a linear regression model with no predictors and then carry out the stepwise regression between the model with no predictors and glm_fit. We will also carry out a stepwise regression bothways."
   ]
  },
  {
   "cell_type": "code",
   "execution_count": 14,
   "metadata": {},
   "outputs": [
    {
     "data": {
      "text/plain": [
       "\n",
       "Call:\n",
       "glm(formula = Loan_Status ~ 1, family = \"binomial\", data = train_data)\n",
       "\n",
       "Deviance Residuals: \n",
       "    Min       1Q   Median       3Q      Max  \n",
       "-1.5239  -1.5239   0.8667   0.8667   0.8667  \n",
       "\n",
       "Coefficients:\n",
       "            Estimate Std. Error z value Pr(>|z|)    \n",
       "(Intercept)   0.7855     0.1084   7.249 4.18e-13 ***\n",
       "---\n",
       "Signif. codes:  0 '***' 0.001 '**' 0.01 '*' 0.05 '.' 0.1 ' ' 1\n",
       "\n",
       "(Dispersion parameter for binomial family taken to be 1)\n",
       "\n",
       "    Null deviance: 492.29  on 395  degrees of freedom\n",
       "Residual deviance: 492.29  on 395  degrees of freedom\n",
       "AIC: 494.29\n",
       "\n",
       "Number of Fisher Scoring iterations: 4\n"
      ]
     },
     "metadata": {},
     "output_type": "display_data"
    }
   ],
   "source": [
    "glm_nothing <- glm(Loan_Status ~ 1, data = train_data, family = \"binomial\")\n",
    "summary(glm_nothing)"
   ]
  },
  {
   "cell_type": "code",
   "execution_count": 15,
   "metadata": {},
   "outputs": [
    {
     "name": "stdout",
     "output_type": "stream",
     "text": [
      "Start:  AIC=396.69\n",
      "Loan_Status ~ Gender + Married + Dependents + Education + Self_Employed + \n",
      "    ApplicantIncome + CoapplicantIncome + LoanAmount + Loan_Amount_Term + \n",
      "    Credit_History + Property_Area\n",
      "\n",
      "                    Df Deviance    AIC\n",
      "- Dependents         4   360.25 390.25\n",
      "- Self_Employed      2   359.76 393.76\n",
      "- ApplicantIncome    1   358.72 394.72\n",
      "- Gender             2   360.78 394.78\n",
      "- Loan_Amount_Term   1   359.25 395.25\n",
      "- CoapplicantIncome  1   359.56 395.56\n",
      "- Married            2   361.92 395.92\n",
      "- LoanAmount         1   360.67 396.67\n",
      "<none>                   358.69 396.69\n",
      "- Education          1   363.31 399.31\n",
      "- Property_Area      2   367.61 401.61\n",
      "- Credit_History     1   462.97 498.97\n",
      "\n",
      "Step:  AIC=390.25\n",
      "Loan_Status ~ Gender + Married + Education + Self_Employed + \n",
      "    ApplicantIncome + CoapplicantIncome + LoanAmount + Loan_Amount_Term + \n",
      "    Credit_History + Property_Area\n",
      "\n",
      "                    Df Deviance    AIC\n",
      "- Self_Employed      2   361.30 387.30\n",
      "- ApplicantIncome    1   360.28 388.28\n",
      "- Loan_Amount_Term   1   360.67 388.67\n",
      "- Gender             2   362.78 388.78\n",
      "- CoapplicantIncome  1   361.10 389.10\n",
      "<none>                   360.25 390.25\n",
      "- Married            2   364.33 390.33\n",
      "- LoanAmount         1   362.36 390.36\n",
      "- Education          1   364.87 392.87\n",
      "- Property_Area      2   368.80 394.80\n",
      "- Credit_History     1   464.59 492.59\n",
      "\n",
      "Step:  AIC=387.3\n",
      "Loan_Status ~ Gender + Married + Education + ApplicantIncome + \n",
      "    CoapplicantIncome + LoanAmount + Loan_Amount_Term + Credit_History + \n",
      "    Property_Area\n",
      "\n",
      "                    Df Deviance    AIC\n",
      "- ApplicantIncome    1   361.35 385.35\n",
      "- Loan_Amount_Term   1   361.76 385.76\n",
      "- Gender             2   363.78 385.78\n",
      "- CoapplicantIncome  1   362.15 386.15\n",
      "- Married            2   365.10 387.10\n",
      "<none>                   361.30 387.30\n",
      "- LoanAmount         1   363.56 387.56\n",
      "- Education          1   365.90 389.90\n",
      "- Property_Area      2   369.68 391.68\n",
      "- Credit_History     1   467.49 491.49\n",
      "\n",
      "Step:  AIC=385.35\n",
      "Loan_Status ~ Gender + Married + Education + CoapplicantIncome + \n",
      "    LoanAmount + Loan_Amount_Term + Credit_History + Property_Area\n",
      "\n",
      "                    Df Deviance    AIC\n",
      "- Gender             2   363.82 383.82\n",
      "- Loan_Amount_Term   1   361.87 383.87\n",
      "- CoapplicantIncome  1   362.33 384.33\n",
      "- Married            2   365.12 385.12\n",
      "<none>                   361.35 385.35\n",
      "- LoanAmount         1   364.30 386.30\n",
      "- Education          1   366.05 388.05\n",
      "- Property_Area      2   369.70 389.70\n",
      "- Credit_History     1   467.62 489.62\n",
      "\n",
      "Step:  AIC=383.82\n",
      "Loan_Status ~ Married + Education + CoapplicantIncome + LoanAmount + \n",
      "    Loan_Amount_Term + Credit_History + Property_Area\n",
      "\n",
      "                    Df Deviance    AIC\n",
      "- CoapplicantIncome  1   364.44 382.44\n",
      "- Loan_Amount_Term   1   364.59 382.59\n",
      "<none>                   363.82 383.82\n",
      "- LoanAmount         1   366.41 384.41\n",
      "- Married            2   370.25 386.25\n",
      "- Education          1   368.32 386.32\n",
      "- Property_Area      2   371.91 387.91\n",
      "- Credit_History     1   470.44 488.44\n",
      "\n",
      "Step:  AIC=382.44\n",
      "Loan_Status ~ Married + Education + LoanAmount + Loan_Amount_Term + \n",
      "    Credit_History + Property_Area\n",
      "\n",
      "                   Df Deviance    AIC\n",
      "- Loan_Amount_Term  1   365.26 381.26\n",
      "<none>                  364.44 382.44\n",
      "- LoanAmount        1   367.31 383.31\n",
      "- Married           2   370.74 384.74\n",
      "- Education         1   368.76 384.76\n",
      "- Property_Area     2   372.67 386.67\n",
      "- Credit_History    1   470.62 486.62\n",
      "\n",
      "Step:  AIC=381.26\n",
      "Loan_Status ~ Married + Education + LoanAmount + Credit_History + \n",
      "    Property_Area\n",
      "\n",
      "                 Df Deviance    AIC\n",
      "<none>                365.26 381.26\n",
      "- LoanAmount      1   368.20 382.20\n",
      "- Education       1   369.25 383.25\n",
      "- Married         2   372.03 384.03\n",
      "- Property_Area   2   373.45 385.45\n",
      "- Credit_History  1   471.14 485.14\n"
     ]
    },
    {
     "data": {
      "text/plain": [
       "\n",
       "Call:\n",
       "glm(formula = Loan_Status ~ Married + Education + LoanAmount + \n",
       "    Credit_History + Property_Area, family = \"binomial\", data = train_data)\n",
       "\n",
       "Deviance Residuals: \n",
       "    Min       1Q   Median       3Q      Max  \n",
       "-2.2387  -0.4353   0.5519   0.7020   2.4091  \n",
       "\n",
       "Coefficients:\n",
       "                         Estimate Std. Error z value Pr(>|z|)    \n",
       "(Intercept)             10.947700 616.196619   0.018  0.98583    \n",
       "MarriedNo              -13.448943 616.196362  -0.022  0.98259    \n",
       "MarriedYes             -12.781761 616.196353  -0.021  0.98345    \n",
       "EducationNot Graduate   -0.645252   0.318792  -2.024  0.04296 *  \n",
       "LoanAmount              -0.002648   0.001523  -1.739  0.08207 .  \n",
       "Credit_History           3.605052   0.464219   7.766 8.11e-15 ***\n",
       "Property_AreaSemiurban   0.835046   0.322929   2.586  0.00971 ** \n",
       "Property_AreaUrban       0.111892   0.323495   0.346  0.72943    \n",
       "---\n",
       "Signif. codes:  0 '***' 0.001 '**' 0.01 '*' 0.05 '.' 0.1 ' ' 1\n",
       "\n",
       "(Dispersion parameter for binomial family taken to be 1)\n",
       "\n",
       "    Null deviance: 492.29  on 395  degrees of freedom\n",
       "Residual deviance: 365.26  on 388  degrees of freedom\n",
       "AIC: 381.26\n",
       "\n",
       "Number of Fisher Scoring iterations: 13\n"
      ]
     },
     "metadata": {},
     "output_type": "display_data"
    }
   ],
   "source": [
    "glm_backward <- step(glm_fit)\n",
    "summary(glm_backward)"
   ]
  },
  {
   "cell_type": "code",
   "execution_count": 16,
   "metadata": {},
   "outputs": [
    {
     "data": {
      "text/plain": [
       "                 \n",
       "glm.pred_backward  N  Y\n",
       "                N 23 19\n",
       "                Y 16 75"
      ]
     },
     "metadata": {},
     "output_type": "display_data"
    },
    {
     "data": {
      "text/html": [
       "0.263157894736842"
      ],
      "text/latex": [
       "0.263157894736842"
      ],
      "text/markdown": [
       "0.263157894736842"
      ],
      "text/plain": [
       "[1] 0.2631579"
      ]
     },
     "metadata": {},
     "output_type": "display_data"
    },
    {
     "data": {
      "text/plain": [
       "An object of class \"performance\"\n",
       "Slot \"x.name\":\n",
       "[1] \"None\"\n",
       "\n",
       "Slot \"y.name\":\n",
       "[1] \"Area under the ROC curve\"\n",
       "\n",
       "Slot \"alpha.name\":\n",
       "[1] \"none\"\n",
       "\n",
       "Slot \"x.values\":\n",
       "list()\n",
       "\n",
       "Slot \"y.values\":\n",
       "[[1]]\n",
       "[1] 0.693808\n",
       "\n",
       "\n",
       "Slot \"alpha.values\":\n",
       "list()\n"
      ]
     },
     "metadata": {},
     "output_type": "display_data"
    },
    {
     "data": {
      "image/png": "[encoded data removed]",
      "text/plain": [
       "plot without title"
      ]
     },
     "metadata": {},
     "output_type": "display_data"
    }
   ],
   "source": [
    "glm.probs_backward = predict(glm_backward, validation_data, type = \"response\")\n",
    "glm.pred_backward = rep(\"N\", 133)\n",
    "glm.pred_backward[glm.probs_backward >.7] = \"Y\"\n",
    "glm.pred_backward = as.factor(glm.pred_backward)\n",
    "table(glm.pred_backward, validation_data$Loan_Status)\n",
    "mean(glm.pred_backward != validation_data$Loan_Status)\n",
    "pred_backward<-prediction(as.numeric(glm.pred_backward), as.numeric(validation_data$Loan_Status))\n",
    "perf_backward<-performance(pred_backward,\"tpr\", \"fpr\")\n",
    "plot(perf_backward)\n",
    "auc_backward<- performance(pred_backward,\"auc\")\n",
    "auc_backward"
   ]
  },
  {
   "cell_type": "code",
   "execution_count": 17,
   "metadata": {},
   "outputs": [
    {
     "name": "stdout",
     "output_type": "stream",
     "text": [
      "Start:  AIC=494.29\n",
      "Loan_Status ~ 1\n",
      "\n",
      "                    Df Deviance    AIC\n",
      "+ Credit_History     1   385.81 389.81\n",
      "+ Property_Area      2   483.85 489.85\n",
      "+ Education          1   487.85 491.85\n",
      "+ Married            2   487.86 493.86\n",
      "+ LoanAmount         1   490.24 494.24\n",
      "<none>                   492.29 494.29\n",
      "+ Gender             2   489.41 495.41\n",
      "+ ApplicantIncome    1   491.51 495.51\n",
      "+ Loan_Amount_Term   1   491.90 495.90\n",
      "+ CoapplicantIncome  1   492.03 496.03\n",
      "+ Self_Employed      2   490.60 496.60\n",
      "+ Dependents         4   491.22 501.22\n",
      "\n",
      "Step:  AIC=389.81\n",
      "Loan_Status ~ Credit_History\n",
      "\n",
      "                    Df Deviance    AIC\n",
      "+ Property_Area      2   376.35 384.35\n",
      "+ Married            2   380.34 388.34\n",
      "+ Education          1   382.48 388.48\n",
      "<none>                   385.81 389.81\n",
      "+ Gender             2   382.46 390.46\n",
      "+ LoanAmount         1   384.58 390.58\n",
      "+ Loan_Amount_Term   1   384.93 390.93\n",
      "+ CoapplicantIncome  1   385.12 391.12\n",
      "+ ApplicantIncome    1   385.78 391.78\n",
      "+ Self_Employed      2   385.37 393.37\n",
      "+ Dependents         4   383.62 395.62\n",
      "\n",
      "Step:  AIC=384.35\n",
      "Loan_Status ~ Credit_History + Property_Area\n",
      "\n",
      "                    Df Deviance    AIC\n",
      "+ Married            2   371.01 383.01\n",
      "+ Education          1   373.76 383.76\n",
      "<none>                   376.35 384.35\n",
      "+ Gender             2   372.35 384.35\n",
      "+ Loan_Amount_Term   1   375.37 385.37\n",
      "+ LoanAmount         1   375.40 385.40\n",
      "+ CoapplicantIncome  1   375.78 385.78\n",
      "+ ApplicantIncome    1   376.33 386.33\n",
      "+ Self_Employed      2   375.60 387.60\n",
      "+ Dependents         4   373.63 389.63\n",
      "\n",
      "Step:  AIC=383.01\n",
      "Loan_Status ~ Credit_History + Property_Area + Married\n",
      "\n",
      "                    Df Deviance    AIC\n",
      "+ Education          1   368.20 382.20\n",
      "<none>                   371.01 383.01\n",
      "+ LoanAmount         1   369.25 383.25\n",
      "+ CoapplicantIncome  1   370.29 384.29\n",
      "+ Loan_Amount_Term   1   370.41 384.41\n",
      "+ ApplicantIncome    1   370.92 384.92\n",
      "+ Gender             2   369.14 385.14\n",
      "+ Self_Employed      2   369.89 385.89\n",
      "+ Dependents         4   369.22 389.22\n",
      "\n",
      "Step:  AIC=382.2\n",
      "Loan_Status ~ Credit_History + Property_Area + Married + Education\n",
      "\n",
      "                    Df Deviance    AIC\n",
      "+ LoanAmount         1   365.26 381.26\n",
      "<none>                   368.20 382.20\n",
      "+ CoapplicantIncome  1   367.22 383.22\n",
      "+ Loan_Amount_Term   1   367.31 383.31\n",
      "+ ApplicantIncome    1   367.89 383.89\n",
      "+ Gender             2   366.29 384.29\n",
      "+ Self_Employed      2   367.03 385.03\n",
      "+ Dependents         4   366.39 388.39\n",
      "\n",
      "Step:  AIC=381.26\n",
      "Loan_Status ~ Credit_History + Property_Area + Married + Education + \n",
      "    LoanAmount\n",
      "\n",
      "                    Df Deviance    AIC\n",
      "<none>                   365.26 381.26\n",
      "+ Loan_Amount_Term   1   364.44 382.44\n",
      "+ CoapplicantIncome  1   364.59 382.59\n",
      "+ Gender             2   362.93 382.93\n",
      "+ ApplicantIncome    1   365.00 383.00\n",
      "+ Self_Employed      2   364.14 384.14\n",
      "+ Dependents         4   363.53 387.53\n"
     ]
    },
    {
     "data": {
      "text/plain": [
       "\n",
       "Call:\n",
       "glm(formula = Loan_Status ~ Credit_History + Property_Area + \n",
       "    Married + Education + LoanAmount, family = \"binomial\", data = train_data)\n",
       "\n",
       "Deviance Residuals: \n",
       "    Min       1Q   Median       3Q      Max  \n",
       "-2.2387  -0.4353   0.5519   0.7020   2.4091  \n",
       "\n",
       "Coefficients:\n",
       "                         Estimate Std. Error z value Pr(>|z|)    \n",
       "(Intercept)             10.947700 616.196619   0.018  0.98583    \n",
       "Credit_History           3.605052   0.464219   7.766 8.11e-15 ***\n",
       "Property_AreaSemiurban   0.835046   0.322929   2.586  0.00971 ** \n",
       "Property_AreaUrban       0.111892   0.323495   0.346  0.72943    \n",
       "MarriedNo              -13.448943 616.196362  -0.022  0.98259    \n",
       "MarriedYes             -12.781761 616.196353  -0.021  0.98345    \n",
       "EducationNot Graduate   -0.645252   0.318792  -2.024  0.04296 *  \n",
       "LoanAmount              -0.002648   0.001523  -1.739  0.08207 .  \n",
       "---\n",
       "Signif. codes:  0 '***' 0.001 '**' 0.01 '*' 0.05 '.' 0.1 ' ' 1\n",
       "\n",
       "(Dispersion parameter for binomial family taken to be 1)\n",
       "\n",
       "    Null deviance: 492.29  on 395  degrees of freedom\n",
       "Residual deviance: 365.26  on 388  degrees of freedom\n",
       "AIC: 381.26\n",
       "\n",
       "Number of Fisher Scoring iterations: 13\n"
      ]
     },
     "metadata": {},
     "output_type": "display_data"
    }
   ],
   "source": [
    "glm_forward <-  step(glm_nothing, scope=list(lower=formula(glm_nothing),upper=formula(glm_fit)), direction=\"forward\")\n",
    "summary(glm_forward)"
   ]
  },
  {
   "cell_type": "code",
   "execution_count": 18,
   "metadata": {},
   "outputs": [
    {
     "data": {
      "text/plain": [
       "                \n",
       "glm.pred_forward  N  Y\n",
       "               N 23 19\n",
       "               Y 16 75"
      ]
     },
     "metadata": {},
     "output_type": "display_data"
    },
    {
     "data": {
      "text/html": [
       "0.263157894736842"
      ],
      "text/latex": [
       "0.263157894736842"
      ],
      "text/markdown": [
       "0.263157894736842"
      ],
      "text/plain": [
       "[1] 0.2631579"
      ]
     },
     "metadata": {},
     "output_type": "display_data"
    },
    {
     "data": {
      "text/plain": [
       "An object of class \"performance\"\n",
       "Slot \"x.name\":\n",
       "[1] \"None\"\n",
       "\n",
       "Slot \"y.name\":\n",
       "[1] \"Area under the ROC curve\"\n",
       "\n",
       "Slot \"alpha.name\":\n",
       "[1] \"none\"\n",
       "\n",
       "Slot \"x.values\":\n",
       "list()\n",
       "\n",
       "Slot \"y.values\":\n",
       "[[1]]\n",
       "[1] 0.693808\n",
       "\n",
       "\n",
       "Slot \"alpha.values\":\n",
       "list()\n"
      ]
     },
     "metadata": {},
     "output_type": "display_data"
    },
    {
     "data": {
      "image/png": "[encoded data removed]",
      "text/plain": [
       "plot without title"
      ]
     },
     "metadata": {},
     "output_type": "display_data"
    }
   ],
   "source": [
    "glm.probs_forward = predict(glm_forward, validation_data, type = \"response\")\n",
    "glm.pred_forward = rep(\"N\", 133)\n",
    "glm.pred_forward[glm.probs_forward >.7] = \"Y\"\n",
    "glm.pred_forward = as.factor(glm.pred_forward)\n",
    "table(glm.pred_forward, validation_data$Loan_Status)\n",
    "mean(glm.pred_forward != validation_data$Loan_Status)\n",
    "pred_forward<-prediction(as.numeric(glm.pred_forward), as.numeric(validation_data$Loan_Status))\n",
    "perf_forward<-performance(pred_forward,\"tpr\", \"fpr\")\n",
    "plot(perf_forward)\n",
    "auc_forward<- performance(pred_forward,\"auc\")\n",
    "auc_forward"
   ]
  },
  {
   "cell_type": "code",
   "execution_count": 19,
   "metadata": {},
   "outputs": [
    {
     "data": {
      "text/plain": [
       "\n",
       "Call:\n",
       "glm(formula = Loan_Status ~ Credit_History + Property_Area + \n",
       "    Married + Education + LoanAmount, family = \"binomial\", data = train_data)\n",
       "\n",
       "Deviance Residuals: \n",
       "    Min       1Q   Median       3Q      Max  \n",
       "-2.2387  -0.4353   0.5519   0.7020   2.4091  \n",
       "\n",
       "Coefficients:\n",
       "                         Estimate Std. Error z value Pr(>|z|)    \n",
       "(Intercept)             10.947700 616.196619   0.018  0.98583    \n",
       "Credit_History           3.605052   0.464219   7.766 8.11e-15 ***\n",
       "Property_AreaSemiurban   0.835046   0.322929   2.586  0.00971 ** \n",
       "Property_AreaUrban       0.111892   0.323495   0.346  0.72943    \n",
       "MarriedNo              -13.448943 616.196362  -0.022  0.98259    \n",
       "MarriedYes             -12.781761 616.196353  -0.021  0.98345    \n",
       "EducationNot Graduate   -0.645252   0.318792  -2.024  0.04296 *  \n",
       "LoanAmount              -0.002648   0.001523  -1.739  0.08207 .  \n",
       "---\n",
       "Signif. codes:  0 '***' 0.001 '**' 0.01 '*' 0.05 '.' 0.1 ' ' 1\n",
       "\n",
       "(Dispersion parameter for binomial family taken to be 1)\n",
       "\n",
       "    Null deviance: 492.29  on 395  degrees of freedom\n",
       "Residual deviance: 365.26  on 388  degrees of freedom\n",
       "AIC: 381.26\n",
       "\n",
       "Number of Fisher Scoring iterations: 13\n"
      ]
     },
     "metadata": {},
     "output_type": "display_data"
    }
   ],
   "source": [
    "glm_bothways = step(glm_nothing, list(lower=formula(glm_nothing),upper=formula(glm_fit)), direction=\"both\", trace = 0)\n",
    "summary(glm_bothways)"
   ]
  },
  {
   "cell_type": "code",
   "execution_count": 20,
   "metadata": {},
   "outputs": [
    {
     "data": {
      "text/plain": [
       "                 \n",
       "glm.pred_bothways  N  Y\n",
       "                N 23 19\n",
       "                Y 16 75"
      ]
     },
     "metadata": {},
     "output_type": "display_data"
    },
    {
     "data": {
      "text/html": [
       "0.263157894736842"
      ],
      "text/latex": [
       "0.263157894736842"
      ],
      "text/markdown": [
       "0.263157894736842"
      ],
      "text/plain": [
       "[1] 0.2631579"
      ]
     },
     "metadata": {},
     "output_type": "display_data"
    },
    {
     "data": {
      "text/plain": [
       "An object of class \"performance\"\n",
       "Slot \"x.name\":\n",
       "[1] \"None\"\n",
       "\n",
       "Slot \"y.name\":\n",
       "[1] \"Area under the ROC curve\"\n",
       "\n",
       "Slot \"alpha.name\":\n",
       "[1] \"none\"\n",
       "\n",
       "Slot \"x.values\":\n",
       "list()\n",
       "\n",
       "Slot \"y.values\":\n",
       "[[1]]\n",
       "[1] 0.693808\n",
       "\n",
       "\n",
       "Slot \"alpha.values\":\n",
       "list()\n"
      ]
     },
     "metadata": {},
     "output_type": "display_data"
    },
    {
     "data": {
      "image/png": "[encoded data removed]",
      "text/plain": [
       "plot without title"
      ]
     },
     "metadata": {},
     "output_type": "display_data"
    }
   ],
   "source": [
    "glm.probs_bothways = predict(glm_bothways, validation_data, type = \"response\")\n",
    "glm.pred_bothways = rep(\"N\", 133)\n",
    "glm.pred_bothways[glm.probs_bothways >.7] = \"Y\"\n",
    "glm.pred_bothways = as.factor(glm.pred_bothways)\n",
    "table(glm.pred_bothways, validation_data$Loan_Status)\n",
    "mean(glm.pred_bothways != validation_data$Loan_Status)\n",
    "pred_bothways<-prediction(as.numeric(glm.pred_bothways), as.numeric(validation_data$Loan_Status))\n",
    "perf_bothways<-performance(pred_bothways,\"tpr\", \"fpr\")\n",
    "plot(perf_bothways)\n",
    "auc_bothways<- performance(pred_bothways,\"auc\")\n",
    "auc_bothways"
   ]
  },
  {
   "cell_type": "markdown",
   "metadata": {},
   "source": [
    "As you can see from all the above models, the predictors which are significant in the loan eligibility process are Credit_History and Property_Area. To check the fitness of the above models, Area Under Curve(AUC) of the Receiver Operating Characteristic(ROC) curve was calculated for each model and it was found that AUC was maximum for the model which was developed using all the predictors. But as we can see from the coefficients of all the models, the significant predictors are Credit_History and Property_Area. This implies that a non linear transformation or an interaction of Credit_History and Property_Area might be possible. We will now create a model with non linear transformations of these predictors, check it's fitness and finally we will carry out the regression using knn approach and see how well it predicts the loan eligibility. "
   ]
  },
  {
   "cell_type": "code",
   "execution_count": 21,
   "metadata": {},
   "outputs": [
    {
     "data": {
      "text/plain": [
       "\n",
       "Call:\n",
       "glm(formula = Loan_Status ~ Credit_History + Property_Area + \n",
       "    I(Credit_History^2), family = \"binomial\", data = train_data)\n",
       "\n",
       "Deviance Residuals: \n",
       "    Min       1Q   Median       3Q      Max  \n",
       "-1.9914  -0.4139   0.5443   0.7373   2.3397  \n",
       "\n",
       "Coefficients: (1 not defined because of singularities)\n",
       "                       Estimate Std. Error z value Pr(>|z|)    \n",
       "(Intercept)             -2.6702     0.4865  -5.488 4.06e-08 ***\n",
       "Credit_History           3.5783     0.4589   7.797 6.33e-15 ***\n",
       "Property_AreaSemiurban   0.9267     0.3171   2.922  0.00348 ** \n",
       "Property_AreaUrban       0.2558     0.3146   0.813  0.41612    \n",
       "I(Credit_History^2)          NA         NA      NA       NA    \n",
       "---\n",
       "Signif. codes:  0 '***' 0.001 '**' 0.01 '*' 0.05 '.' 0.1 ' ' 1\n",
       "\n",
       "(Dispersion parameter for binomial family taken to be 1)\n",
       "\n",
       "    Null deviance: 492.29  on 395  degrees of freedom\n",
       "Residual deviance: 376.35  on 392  degrees of freedom\n",
       "AIC: 384.35\n",
       "\n",
       "Number of Fisher Scoring iterations: 4\n"
      ]
     },
     "metadata": {},
     "output_type": "display_data"
    }
   ],
   "source": [
    "#Model with non-linear transformation\n",
    "glm_nl_fit <- glm(Loan_Status ~ Credit_History + Property_Area + I(Credit_History^2), data = train_data, family = \"binomial\")\n",
    "summary(glm_nl_fit)"
   ]
  },
  {
   "cell_type": "code",
   "execution_count": 22,
   "metadata": {},
   "outputs": [
    {
     "name": "stderr",
     "output_type": "stream",
     "text": [
      "Warning message in predict.lm(object, newdata, se.fit, scale = 1, type = ifelse(type == :\n",
      "\"prediction from a rank-deficient fit may be misleading\""
     ]
    },
    {
     "data": {
      "text/plain": [
       "           \n",
       "glm.pred_nl  N  Y\n",
       "          N 19  1\n",
       "          Y 20 93"
      ]
     },
     "metadata": {},
     "output_type": "display_data"
    },
    {
     "data": {
      "text/html": [
       "0.157894736842105"
      ],
      "text/latex": [
       "0.157894736842105"
      ],
      "text/markdown": [
       "0.157894736842105"
      ],
      "text/plain": [
       "[1] 0.1578947"
      ]
     },
     "metadata": {},
     "output_type": "display_data"
    },
    {
     "data": {
      "text/plain": [
       "An object of class \"performance\"\n",
       "Slot \"x.name\":\n",
       "[1] \"None\"\n",
       "\n",
       "Slot \"y.name\":\n",
       "[1] \"Area under the ROC curve\"\n",
       "\n",
       "Slot \"alpha.name\":\n",
       "[1] \"none\"\n",
       "\n",
       "Slot \"x.values\":\n",
       "list()\n",
       "\n",
       "Slot \"y.values\":\n",
       "[[1]]\n",
       "[1] 0.7382706\n",
       "\n",
       "\n",
       "Slot \"alpha.values\":\n",
       "list()\n"
      ]
     },
     "metadata": {},
     "output_type": "display_data"
    },
    {
     "data": {
      "image/png": "[encoded data removed]",
      "text/plain": [
       "plot without title"
      ]
     },
     "metadata": {},
     "output_type": "display_data"
    }
   ],
   "source": [
    "glm.probs_nl = predict(glm_nl_fit, validation_data, type = \"response\")\n",
    "glm.pred_nl = rep(\"N\", 133)\n",
    "glm.pred_nl[glm.probs_nl >.7] = \"Y\"\n",
    "glm.pred_nl = as.factor(glm.pred_nl)\n",
    "table(glm.pred_nl, validation_data$Loan_Status)\n",
    "mean(glm.pred_nl != validation_data$Loan_Status)\n",
    "pred_nl<-prediction(as.numeric(glm.pred_nl), as.numeric(validation_data$Loan_Status))\n",
    "perf_nl<-performance(pred_nl,\"tpr\", \"fpr\")\n",
    "plot(perf_nl)\n",
    "auc_nl<- performance(pred_nl,\"auc\")\n",
    "auc_nl"
   ]
  },
  {
   "cell_type": "code",
   "execution_count": 23,
   "metadata": {},
   "outputs": [
    {
     "data": {
      "text/plain": [
       "\n",
       "Call:\n",
       "glm(formula = Loan_Status ~ Credit_History + Property_Area + \n",
       "    Credit_History:Property_Area, family = \"binomial\", data = train_data)\n",
       "\n",
       "Deviance Residuals: \n",
       "    Min       1Q   Median       3Q      Max  \n",
       "-1.9986  -0.4854   0.5401   0.7272   2.4267  \n",
       "\n",
       "Coefficients:\n",
       "                                      Estimate Std. Error z value Pr(>|z|)    \n",
       "(Intercept)                            -2.0794     0.7500  -2.773 0.005561 ** \n",
       "Credit_History                          2.9463     0.7820   3.768 0.000165 ***\n",
       "Property_AreaSemiurban                  0.2336     0.9739   0.240 0.810425    \n",
       "Property_AreaUrban                     -0.8109     1.2720  -0.638 0.523784    \n",
       "Credit_History:Property_AreaSemiurban   0.7509     1.0288   0.730 0.465429    \n",
       "Credit_History:Property_AreaUrban       1.1394     1.3129   0.868 0.385479    \n",
       "---\n",
       "Signif. codes:  0 '***' 0.001 '**' 0.01 '*' 0.05 '.' 0.1 ' ' 1\n",
       "\n",
       "(Dispersion parameter for binomial family taken to be 1)\n",
       "\n",
       "    Null deviance: 492.29  on 395  degrees of freedom\n",
       "Residual deviance: 375.48  on 390  degrees of freedom\n",
       "AIC: 387.48\n",
       "\n",
       "Number of Fisher Scoring iterations: 5\n"
      ]
     },
     "metadata": {},
     "output_type": "display_data"
    },
    {
     "data": {
      "text/plain": [
       "            \n",
       "glm.pred_int  N  Y\n",
       "           N 19  1\n",
       "           Y 20 93"
      ]
     },
     "metadata": {},
     "output_type": "display_data"
    },
    {
     "data": {
      "text/html": [
       "0.157894736842105"
      ],
      "text/latex": [
       "0.157894736842105"
      ],
      "text/markdown": [
       "0.157894736842105"
      ],
      "text/plain": [
       "[1] 0.1578947"
      ]
     },
     "metadata": {},
     "output_type": "display_data"
    },
    {
     "data": {
      "text/plain": [
       "An object of class \"performance\"\n",
       "Slot \"x.name\":\n",
       "[1] \"None\"\n",
       "\n",
       "Slot \"y.name\":\n",
       "[1] \"Area under the ROC curve\"\n",
       "\n",
       "Slot \"alpha.name\":\n",
       "[1] \"none\"\n",
       "\n",
       "Slot \"x.values\":\n",
       "list()\n",
       "\n",
       "Slot \"y.values\":\n",
       "[[1]]\n",
       "[1] 0.7382706\n",
       "\n",
       "\n",
       "Slot \"alpha.values\":\n",
       "list()\n"
      ]
     },
     "metadata": {},
     "output_type": "display_data"
    },
    {
     "data": {
      "image/png": "[encoded data removed]",
      "text/plain": [
       "plot without title"
      ]
     },
     "metadata": {},
     "output_type": "display_data"
    }
   ],
   "source": [
    "#Model with non-linear transformation\n",
    "glm_int_fit <- glm(Loan_Status ~ Credit_History + Property_Area + Credit_History:Property_Area, data = train_data, family = \"binomial\")\n",
    "summary(glm_int_fit)\n",
    "glm.probs_int = predict(glm_int_fit, validation_data, type = \"response\")\n",
    "glm.pred_int = rep(\"N\", 133)\n",
    "glm.pred_int[glm.probs_int >.7] = \"Y\"\n",
    "glm.pred_int = as.factor(glm.pred_int)\n",
    "table(glm.pred_int, validation_data$Loan_Status)\n",
    "mean(glm.pred_int != validation_data$Loan_Status)\n",
    "pred_int<-prediction(as.numeric(glm.pred_int), as.numeric(validation_data$Loan_Status))\n",
    "perf_int<-performance(pred_int,\"tpr\", \"fpr\")\n",
    "plot(perf_int)\n",
    "auc_int<- performance(pred_int,\"auc\")\n",
    "auc_int"
   ]
  },
  {
   "cell_type": "markdown",
   "metadata": {},
   "source": [
    "As we can see the interaction terms and non-linear transformations does not increase the AUC of the ROC curve. Now we will develop a knn model and check it's fitness."
   ]
  },
  {
   "cell_type": "code",
   "execution_count": 128,
   "metadata": {},
   "outputs": [],
   "source": [
    "#Converting all predictors to numeric\n",
    "loan_train$Property_Area <- as.numeric(as.factor(loan_train$Property_Area))\n",
    "train_knn = cbind(Credit_History, Property_Area)[index,]\n",
    "test_knn = cbind(Credit_History, Property_Area)[-index,]\n",
    "train.Loan_Status <- loan_train$Loan_Status[index]"
   ]
  },
  {
   "cell_type": "code",
   "execution_count": 129,
   "metadata": {},
   "outputs": [
    {
     "data": {
      "text/plain": [
       "        \n",
       "knn.pred  N  Y\n",
       "       N 19  1\n",
       "       Y 20 93"
      ]
     },
     "metadata": {},
     "output_type": "display_data"
    },
    {
     "data": {
      "text/plain": [
       "An object of class \"performance\"\n",
       "Slot \"x.name\":\n",
       "[1] \"None\"\n",
       "\n",
       "Slot \"y.name\":\n",
       "[1] \"Area under the ROC curve\"\n",
       "\n",
       "Slot \"alpha.name\":\n",
       "[1] \"none\"\n",
       "\n",
       "Slot \"x.values\":\n",
       "list()\n",
       "\n",
       "Slot \"y.values\":\n",
       "[[1]]\n",
       "[1] 0.7382706\n",
       "\n",
       "\n",
       "Slot \"alpha.values\":\n",
       "list()\n"
      ]
     },
     "metadata": {},
     "output_type": "display_data"
    },
    {
     "data": {
      "image/png": "[encoded data removed]",
      "text/plain": [
       "plot without title"
      ]
     },
     "metadata": {},
     "output_type": "display_data"
    }
   ],
   "source": [
    "set.seed(1)\n",
    "knn.pred = knn(train = train_knn, test = test_knn, cl = train.Loan_Status, k=1)\n",
    "table(knn.pred, validation_data$Loan_Status)\n",
    "pred_knn<-prediction(as.numeric(knn.pred), as.numeric(validation_data$Loan_Status))\n",
    "perf_knn<-performance(pred_knn,\"tpr\", \"fpr\")\n",
    "plot(perf_knn)\n",
    "auc_knn<- performance(pred_knn,\"auc\")\n",
    "auc_knn"
   ]
  },
  {
   "cell_type": "code",
   "execution_count": 131,
   "metadata": {},
   "outputs": [
    {
     "name": "stderr",
     "output_type": "stream",
     "text": [
      "Loading required package: caret\n",
      "Error: package or namespace load failed for 'caret' in loadNamespace(j <- i[[1L]], c(lib.loc, .libPaths()), versionCheck = vI[[j]]):\n",
      " there is no package called 'mgcv'\n"
     ]
    },
    {
     "name": "stdout",
     "output_type": "stream",
     "text": [
      "package 'caret' successfully unpacked and MD5 sums checked\n",
      "\n",
      "The downloaded binary packages are in\n",
      "\tC:\\Users\\shrut\\AppData\\Local\\Temp\\RtmpoJuS22\\downloaded_packages\n"
     ]
    },
    {
     "name": "stderr",
     "output_type": "stream",
     "text": [
      "Loading required package: caret\n",
      "Error: package or namespace load failed for 'caret' in loadNamespace(j <- i[[1L]], c(lib.loc, .libPaths()), versionCheck = vI[[j]]):\n",
      " there is no package called 'mgcv'\n",
      "Loading required package: mgcv\n",
      "Warning message in library(package, lib.loc = lib.loc, character.only = TRUE, logical.return = TRUE, :\n",
      "\"there is no package called 'mgcv'\""
     ]
    },
    {
     "name": "stdout",
     "output_type": "stream",
     "text": [
      "package 'mgcv' successfully unpacked and MD5 sums checked\n",
      "\n",
      "The downloaded binary packages are in\n",
      "\tC:\\Users\\shrut\\AppData\\Local\\Temp\\RtmpoJuS22\\downloaded_packages\n"
     ]
    },
    {
     "name": "stderr",
     "output_type": "stream",
     "text": [
      "Loading required package: mgcv\n",
      "Loading required package: nlme\n",
      "\n",
      "Attaching package: 'nlme'\n",
      "\n",
      "The following object is masked from 'package:lme4':\n",
      "\n",
      "    lmList\n",
      "\n",
      "The following object is masked from 'package:dplyr':\n",
      "\n",
      "    collapse\n",
      "\n",
      "This is mgcv 1.8-19. For overview type 'help(\"mgcv-package\")'.\n",
      "\n",
      "Attaching package: 'mgcv'\n",
      "\n",
      "The following object is masked from 'package:nnet':\n",
      "\n",
      "    multinom\n",
      "\n"
     ]
    }
   ],
   "source": [
    "if(!require(caret)) {install.packages(\"caret\"); require(caret)}\n",
    "if(!require(lme4)) {install.packages(\"lme4\"); require(lme4)}\n",
    "if(!require(mgcv)) {install.packages(\"mgcv\"); require(mgcv)}"
   ]
  },
  {
   "cell_type": "code",
   "execution_count": 132,
   "metadata": {},
   "outputs": [
    {
     "ename": "ERROR",
     "evalue": "Error in trainControl(method = \"repeatedcv\", number = numbers, repeats = repeats, : could not find function \"trainControl\"\n",
     "output_type": "error",
     "traceback": [
      "Error in trainControl(method = \"repeatedcv\", number = numbers, repeats = repeats, : could not find function \"trainControl\"\nTraceback:\n"
     ]
    }
   ],
   "source": [
    "# Setting up train controls\n",
    "repeats = 3\n",
    "numbers = 10\n",
    "tunel = 10\n",
    "\n",
    "set.seed(1234)\n",
    "x = trainControl(method = 'repeatedcv',\n",
    "                 number = numbers,\n",
    "                 repeats = repeats,\n",
    "                 classProbs = TRUE,\n",
    "                 summaryFunction = twoClassSummary)\n",
    "\n",
    "model1 <- train(Loan_Status ~ Credit_History + Property_Area , data = train_data, method = 'knn',\n",
    "                preProcess = c('center','scale'),\n",
    "                trControl = x,\n",
    "                metric = 'ROC',\n",
    "                tuneLength = tunel)\n",
    "\n",
    "# Summary of model\n",
    "model1\n",
    "plot(model1)\n",
    "\n",
    "# Validation\n",
    "valid_pred <- predict(model1,validation_data, type = 'prob')\n",
    "\n",
    "#Storing Model Performance Scores\n",
    "library(ROCR)\n",
    "pred_val <-prediction(valid_pred[,2],validation_data$Loan_Status)\n",
    "\n",
    "# Calculating Area under Curve (AUC)\n",
    "perf_val <- performance(pred_val,'auc')\n",
    "perf_val\n",
    "\n",
    "# Plot AUC\n",
    "perf_val <- performance(pred_val, 'tpr', 'fpr')\n",
    "plot(perf_val, col = 'green', lwd = 1.5)"
   ]
  },
  {
   "cell_type": "code",
   "execution_count": null,
   "metadata": {},
   "outputs": [],
   "source": []
  }
 ],
 "metadata": {
  "kernelspec": {
   "display_name": "R",
   "language": "R",
   "name": "ir"
  },
  "language_info": {
   "codemirror_mode": "r",
   "file_extension": ".r",
   "mimetype": "text/x-r-source",
   "name": "R",
   "pygments_lexer": "r",
   "version": "3.4.3"
  }
 },
 "nbformat": 4,
 "nbformat_minor": 2
}
